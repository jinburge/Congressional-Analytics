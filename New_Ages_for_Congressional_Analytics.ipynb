{
  "metadata": {
    "kernelspec": {
      "display_name": "Python 3 (ipykernel)",
      "language": "python",
      "name": "python3"
    },
    "language_info": {
      "codemirror_mode": {
        "name": "ipython",
        "version": 3
      },
      "file_extension": ".py",
      "mimetype": "text/x-python",
      "name": "python",
      "nbconvert_exporter": "python",
      "pygments_lexer": "ipython3",
      "version": "3.7.12"
    },
    "toc-autonumbering": false,
    "toc-showcode": true,
    "colab": {
      "provenance": [],
      "include_colab_link": true
    }
  },
  "nbformat_minor": 5,
  "nbformat": 4,
  "cells": [
    {
      "cell_type": "markdown",
      "metadata": {
        "id": "view-in-github",
        "colab_type": "text"
      },
      "source": [
        "<a href=\"https://colab.research.google.com/github/jinburge/Congressional-Analytics/blob/main/New_Ages_for_Congressional_Analytics.ipynb\" target=\"_parent\"><img src=\"https://colab.research.google.com/assets/colab-badge.svg\" alt=\"Open In Colab\"/></a>"
      ]
    },
    {
      "cell_type": "markdown",
      "source": [
        "# Analysis Comparing Congressional Districts Party Affiliation and Age Groups for White Males\n",
        "\n",
        "\n",
        "## By Jin Burge (jbburge@calpoly.edu )and Athena Kwok (akwok01@calpoly.edu)\n",
        "\n",
        "### Feburary 09, 2022"
      ],
      "metadata": {
        "id": "gF8v1Z3ERk6V"
      },
      "id": "gF8v1Z3ERk6V"
    },
    {
      "cell_type": "markdown",
      "source": [
        "## **Introduction**\n",
        "\n",
        "This notebook examines the influence of age on political affiliation. Two different age ranges of equal size were used to analyze the differences between our generation and our parent's generation. The ages 20-29 (Gen-z and Millennials), referred to as younger, and ages 55-64 (Gen X and Boomers), referred to as older, were selected. A nine year age interval was chosen to represent the majority of ages in MSBA program. Only white males were used to conduct this analysis in order to isolate the age variable and keep ethnicity and gender constant. As of 2022 according to the U.S. Census Bureau, the majority of the US population is white; thus, the majority ethnicity was selected to be used within the analysis. \n",
        "\n",
        "**Hypothesis**: In general, the older white males live in more conservative areas, while the younger white males live in more Democratic districts.\n",
        "\n",
        "\n",
        "\n",
        "\n",
        "\n",
        "\n",
        "\n"
      ],
      "metadata": {
        "id": "ya7WWz3RVvJF"
      },
      "id": "ya7WWz3RVvJF"
    },
    {
      "cell_type": "markdown",
      "source": [
        "## **Data Scraping**"
      ],
      "metadata": {
        "id": "sIfHiPkT6XUz"
      },
      "id": "sIfHiPkT6XUz"
    },
    {
      "cell_type": "code",
      "source": [
        "# read in libraries\n",
        "import pandas as pd \n",
        "import json \n",
        "from urllib.request import urlopen \n",
        "import matplotlib.pyplot as plt \n",
        "import seaborn as sns\n",
        "from scipy.stats import ttest_ind\n",
        "import warnings\n",
        "warnings.filterwarnings('ignore')"
      ],
      "metadata": {
        "id": "b54fd5b3-4ea0-4f5f-82e1-799335fd0901"
      },
      "execution_count": 1,
      "outputs": [],
      "id": "b54fd5b3-4ea0-4f5f-82e1-799335fd0901"
    },
    {
      "cell_type": "markdown",
      "source": [
        "First we will read the ACS 2021 dataset and get it into a usable state for our data analysis."
      ],
      "metadata": {
        "id": "d59a0e36-e6a4-47fa-85ce-9ac3eaf208e1"
      },
      "id": "d59a0e36-e6a4-47fa-85ce-9ac3eaf208e1"
    },
    {
      "cell_type": "code",
      "source": [
        "# reading in the data we want from ACS 2021. The API returns json data.\n",
        "url=\"https://api.census.gov/data/2021/acs/acs1?get=NAME,B01001A_002E,B01001A_008E,B01001A_009E,B01001A_013E&for=congressional%20district:*&in=state:*\"\n",
        "\n",
        "# store the response of URL\n",
        "response = urlopen(url)\n",
        "\n",
        "# storing the JSON response from url in data\n",
        "data_json = json.loads(response.read())\n",
        "data_json.pop(0) # the first row of data is header information which we don't need, so pop removes that from the dataset.\n",
        "\n",
        "# Hand populate the columns based on the variable descriptions census.gov documents here: https://api.census.gov/data/2021/acs/acs1/variables.html.\n",
        "cols = ['District Name', 'Total White Male', 'White Male 20-24', 'White Male 25-29', 'White Male 55-64', 'State code', 'district number']\n",
        "\n",
        "# use pandas to parse data \n",
        "acs_df = pd.DataFrame(data_json, columns = cols)\n",
        "\n",
        "# extract the district number and state in a regular format so we can later join with the party data.\n",
        "# extract state, turn district number into numeric (not string)\n",
        "acs_df[['District', 'State']] = acs_df['District Name'].str.split(',', expand=True)\n",
        "acs_df['district number'] = pd.to_numeric(acs_df['district number'])\n",
        "\n",
        "# strip on all data source to get rid of whitespace\n",
        "acs_df['State'] = acs_df['State'].str.strip()\n",
        "\n",
        "# keep the columns we need\n",
        "acs_df = acs_df[['Total White Male', 'White Male 20-24', 'White Male 25-29', 'White Male 55-64', 'district number', 'State']]\n",
        "\n",
        "# look at first 5 \n",
        "acs_df.head()"
      ],
      "metadata": {
        "id": "17533d73-9c50-420f-ac18-cf82271cca27",
        "outputId": "0a2aa2c9-bdb8-43e2-80d5-7dad0ec4661e",
        "colab": {
          "base_uri": "https://localhost:8080/",
          "height": 206
        }
      },
      "execution_count": 2,
      "outputs": [
        {
          "output_type": "execute_result",
          "data": {
            "text/plain": [
              "  Total White Male White Male 20-24 White Male 25-29 White Male 55-64  \\\n",
              "0           318526            16884            17617            52170   \n",
              "1           263263            16501            14444            37649   \n",
              "2           114430             6881             7739            16955   \n",
              "3           319908            17699            16760            51583   \n",
              "4           215967            15873            11328            28066   \n",
              "\n",
              "   district number        State  \n",
              "0               10     Michigan  \n",
              "1                4  Mississippi  \n",
              "2               14     Michigan  \n",
              "3                1     Michigan  \n",
              "4                3  Mississippi  "
            ],
            "text/html": [
              "\n",
              "  <div id=\"df-bfdeb550-71ed-4ab6-87a2-11176ccd06eb\">\n",
              "    <div class=\"colab-df-container\">\n",
              "      <div>\n",
              "<style scoped>\n",
              "    .dataframe tbody tr th:only-of-type {\n",
              "        vertical-align: middle;\n",
              "    }\n",
              "\n",
              "    .dataframe tbody tr th {\n",
              "        vertical-align: top;\n",
              "    }\n",
              "\n",
              "    .dataframe thead th {\n",
              "        text-align: right;\n",
              "    }\n",
              "</style>\n",
              "<table border=\"1\" class=\"dataframe\">\n",
              "  <thead>\n",
              "    <tr style=\"text-align: right;\">\n",
              "      <th></th>\n",
              "      <th>Total White Male</th>\n",
              "      <th>White Male 20-24</th>\n",
              "      <th>White Male 25-29</th>\n",
              "      <th>White Male 55-64</th>\n",
              "      <th>district number</th>\n",
              "      <th>State</th>\n",
              "    </tr>\n",
              "  </thead>\n",
              "  <tbody>\n",
              "    <tr>\n",
              "      <th>0</th>\n",
              "      <td>318526</td>\n",
              "      <td>16884</td>\n",
              "      <td>17617</td>\n",
              "      <td>52170</td>\n",
              "      <td>10</td>\n",
              "      <td>Michigan</td>\n",
              "    </tr>\n",
              "    <tr>\n",
              "      <th>1</th>\n",
              "      <td>263263</td>\n",
              "      <td>16501</td>\n",
              "      <td>14444</td>\n",
              "      <td>37649</td>\n",
              "      <td>4</td>\n",
              "      <td>Mississippi</td>\n",
              "    </tr>\n",
              "    <tr>\n",
              "      <th>2</th>\n",
              "      <td>114430</td>\n",
              "      <td>6881</td>\n",
              "      <td>7739</td>\n",
              "      <td>16955</td>\n",
              "      <td>14</td>\n",
              "      <td>Michigan</td>\n",
              "    </tr>\n",
              "    <tr>\n",
              "      <th>3</th>\n",
              "      <td>319908</td>\n",
              "      <td>17699</td>\n",
              "      <td>16760</td>\n",
              "      <td>51583</td>\n",
              "      <td>1</td>\n",
              "      <td>Michigan</td>\n",
              "    </tr>\n",
              "    <tr>\n",
              "      <th>4</th>\n",
              "      <td>215967</td>\n",
              "      <td>15873</td>\n",
              "      <td>11328</td>\n",
              "      <td>28066</td>\n",
              "      <td>3</td>\n",
              "      <td>Mississippi</td>\n",
              "    </tr>\n",
              "  </tbody>\n",
              "</table>\n",
              "</div>\n",
              "      <button class=\"colab-df-convert\" onclick=\"convertToInteractive('df-bfdeb550-71ed-4ab6-87a2-11176ccd06eb')\"\n",
              "              title=\"Convert this dataframe to an interactive table.\"\n",
              "              style=\"display:none;\">\n",
              "        \n",
              "  <svg xmlns=\"http://www.w3.org/2000/svg\" height=\"24px\"viewBox=\"0 0 24 24\"\n",
              "       width=\"24px\">\n",
              "    <path d=\"M0 0h24v24H0V0z\" fill=\"none\"/>\n",
              "    <path d=\"M18.56 5.44l.94 2.06.94-2.06 2.06-.94-2.06-.94-.94-2.06-.94 2.06-2.06.94zm-11 1L8.5 8.5l.94-2.06 2.06-.94-2.06-.94L8.5 2.5l-.94 2.06-2.06.94zm10 10l.94 2.06.94-2.06 2.06-.94-2.06-.94-.94-2.06-.94 2.06-2.06.94z\"/><path d=\"M17.41 7.96l-1.37-1.37c-.4-.4-.92-.59-1.43-.59-.52 0-1.04.2-1.43.59L10.3 9.45l-7.72 7.72c-.78.78-.78 2.05 0 2.83L4 21.41c.39.39.9.59 1.41.59.51 0 1.02-.2 1.41-.59l7.78-7.78 2.81-2.81c.8-.78.8-2.07 0-2.86zM5.41 20L4 18.59l7.72-7.72 1.47 1.35L5.41 20z\"/>\n",
              "  </svg>\n",
              "      </button>\n",
              "      \n",
              "  <style>\n",
              "    .colab-df-container {\n",
              "      display:flex;\n",
              "      flex-wrap:wrap;\n",
              "      gap: 12px;\n",
              "    }\n",
              "\n",
              "    .colab-df-convert {\n",
              "      background-color: #E8F0FE;\n",
              "      border: none;\n",
              "      border-radius: 50%;\n",
              "      cursor: pointer;\n",
              "      display: none;\n",
              "      fill: #1967D2;\n",
              "      height: 32px;\n",
              "      padding: 0 0 0 0;\n",
              "      width: 32px;\n",
              "    }\n",
              "\n",
              "    .colab-df-convert:hover {\n",
              "      background-color: #E2EBFA;\n",
              "      box-shadow: 0px 1px 2px rgba(60, 64, 67, 0.3), 0px 1px 3px 1px rgba(60, 64, 67, 0.15);\n",
              "      fill: #174EA6;\n",
              "    }\n",
              "\n",
              "    [theme=dark] .colab-df-convert {\n",
              "      background-color: #3B4455;\n",
              "      fill: #D2E3FC;\n",
              "    }\n",
              "\n",
              "    [theme=dark] .colab-df-convert:hover {\n",
              "      background-color: #434B5C;\n",
              "      box-shadow: 0px 1px 3px 1px rgba(0, 0, 0, 0.15);\n",
              "      filter: drop-shadow(0px 1px 2px rgba(0, 0, 0, 0.3));\n",
              "      fill: #FFFFFF;\n",
              "    }\n",
              "  </style>\n",
              "\n",
              "      <script>\n",
              "        const buttonEl =\n",
              "          document.querySelector('#df-bfdeb550-71ed-4ab6-87a2-11176ccd06eb button.colab-df-convert');\n",
              "        buttonEl.style.display =\n",
              "          google.colab.kernel.accessAllowed ? 'block' : 'none';\n",
              "\n",
              "        async function convertToInteractive(key) {\n",
              "          const element = document.querySelector('#df-bfdeb550-71ed-4ab6-87a2-11176ccd06eb');\n",
              "          const dataTable =\n",
              "            await google.colab.kernel.invokeFunction('convertToInteractive',\n",
              "                                                     [key], {});\n",
              "          if (!dataTable) return;\n",
              "\n",
              "          const docLinkHtml = 'Like what you see? Visit the ' +\n",
              "            '<a target=\"_blank\" href=https://colab.research.google.com/notebooks/data_table.ipynb>data table notebook</a>'\n",
              "            + ' to learn more about interactive tables.';\n",
              "          element.innerHTML = '';\n",
              "          dataTable['output_type'] = 'display_data';\n",
              "          await google.colab.output.renderOutput(dataTable, element);\n",
              "          const docLink = document.createElement('div');\n",
              "          docLink.innerHTML = docLinkHtml;\n",
              "          element.appendChild(docLink);\n",
              "        }\n",
              "      </script>\n",
              "    </div>\n",
              "  </div>\n",
              "  "
            ]
          },
          "metadata": {},
          "execution_count": 2
        }
      ],
      "id": "17533d73-9c50-420f-ac18-cf82271cca27"
    },
    {
      "cell_type": "markdown",
      "source": [
        "## **Data Cleaning**"
      ],
      "metadata": {
        "id": "7YfW172e6iTu"
      },
      "id": "7YfW172e6iTu"
    },
    {
      "cell_type": "code",
      "source": [
        "# convert the number columns into number data types so we can math on them\n",
        "acs_df['White Male 20-24'] = pd.to_numeric(acs_df['White Male 20-24'])\n",
        "acs_df['White Male 25-29'] = pd.to_numeric(acs_df['White Male 25-29'])\n",
        "acs_df['White Male 55-64'] = pd.to_numeric(acs_df['White Male 55-64'])\n",
        "acs_df['Total White Male'] = pd.to_numeric(acs_df['Total White Male'])\n",
        "\n",
        "# combining 20-24 and 25-29 age ranges\n",
        "acs_df['White Male 20-29'] = acs_df['White Male 20-24'] + acs_df['White Male 25-29']\n",
        "\n",
        "# compute some new columns based on the existing columns for later visualization\n",
        "acs_df['% of White Male 20-29 years old'] = (100*acs_df['White Male 20-29'])/acs_df['Total White Male']  \n",
        "acs_df['% of White Male 55-64 years old'] = (100*acs_df['White Male 55-64'])/ acs_df['Total White Male']   \n",
        "\n",
        "# look at first 5 \n",
        "acs_df.head()"
      ],
      "metadata": {
        "colab": {
          "base_uri": "https://localhost:8080/",
          "height": 268
        },
        "id": "9IG9zVwlctuN",
        "outputId": "ef78563a-1d51-433a-a67d-6809d9be5ad0"
      },
      "id": "9IG9zVwlctuN",
      "execution_count": 3,
      "outputs": [
        {
          "output_type": "execute_result",
          "data": {
            "text/plain": [
              "   Total White Male  White Male 20-24  White Male 25-29  White Male 55-64  \\\n",
              "0            318526             16884             17617             52170   \n",
              "1            263263             16501             14444             37649   \n",
              "2            114430              6881              7739             16955   \n",
              "3            319908             17699             16760             51583   \n",
              "4            215967             15873             11328             28066   \n",
              "\n",
              "   district number        State  White Male 20-29  \\\n",
              "0               10     Michigan             34501   \n",
              "1                4  Mississippi             30945   \n",
              "2               14     Michigan             14620   \n",
              "3                1     Michigan             34459   \n",
              "4                3  Mississippi             27201   \n",
              "\n",
              "   % of White Male 20-29 years old  % of White Male 55-64 years old  \n",
              "0                        10.831455                        16.378569  \n",
              "1                        11.754405                        14.300908  \n",
              "2                        12.776370                        14.816919  \n",
              "3                        10.771534                        16.124323  \n",
              "4                        12.594980                        12.995504  "
            ],
            "text/html": [
              "\n",
              "  <div id=\"df-2ed9762f-bcc1-445e-9019-05b2fc5bd296\">\n",
              "    <div class=\"colab-df-container\">\n",
              "      <div>\n",
              "<style scoped>\n",
              "    .dataframe tbody tr th:only-of-type {\n",
              "        vertical-align: middle;\n",
              "    }\n",
              "\n",
              "    .dataframe tbody tr th {\n",
              "        vertical-align: top;\n",
              "    }\n",
              "\n",
              "    .dataframe thead th {\n",
              "        text-align: right;\n",
              "    }\n",
              "</style>\n",
              "<table border=\"1\" class=\"dataframe\">\n",
              "  <thead>\n",
              "    <tr style=\"text-align: right;\">\n",
              "      <th></th>\n",
              "      <th>Total White Male</th>\n",
              "      <th>White Male 20-24</th>\n",
              "      <th>White Male 25-29</th>\n",
              "      <th>White Male 55-64</th>\n",
              "      <th>district number</th>\n",
              "      <th>State</th>\n",
              "      <th>White Male 20-29</th>\n",
              "      <th>% of White Male 20-29 years old</th>\n",
              "      <th>% of White Male 55-64 years old</th>\n",
              "    </tr>\n",
              "  </thead>\n",
              "  <tbody>\n",
              "    <tr>\n",
              "      <th>0</th>\n",
              "      <td>318526</td>\n",
              "      <td>16884</td>\n",
              "      <td>17617</td>\n",
              "      <td>52170</td>\n",
              "      <td>10</td>\n",
              "      <td>Michigan</td>\n",
              "      <td>34501</td>\n",
              "      <td>10.831455</td>\n",
              "      <td>16.378569</td>\n",
              "    </tr>\n",
              "    <tr>\n",
              "      <th>1</th>\n",
              "      <td>263263</td>\n",
              "      <td>16501</td>\n",
              "      <td>14444</td>\n",
              "      <td>37649</td>\n",
              "      <td>4</td>\n",
              "      <td>Mississippi</td>\n",
              "      <td>30945</td>\n",
              "      <td>11.754405</td>\n",
              "      <td>14.300908</td>\n",
              "    </tr>\n",
              "    <tr>\n",
              "      <th>2</th>\n",
              "      <td>114430</td>\n",
              "      <td>6881</td>\n",
              "      <td>7739</td>\n",
              "      <td>16955</td>\n",
              "      <td>14</td>\n",
              "      <td>Michigan</td>\n",
              "      <td>14620</td>\n",
              "      <td>12.776370</td>\n",
              "      <td>14.816919</td>\n",
              "    </tr>\n",
              "    <tr>\n",
              "      <th>3</th>\n",
              "      <td>319908</td>\n",
              "      <td>17699</td>\n",
              "      <td>16760</td>\n",
              "      <td>51583</td>\n",
              "      <td>1</td>\n",
              "      <td>Michigan</td>\n",
              "      <td>34459</td>\n",
              "      <td>10.771534</td>\n",
              "      <td>16.124323</td>\n",
              "    </tr>\n",
              "    <tr>\n",
              "      <th>4</th>\n",
              "      <td>215967</td>\n",
              "      <td>15873</td>\n",
              "      <td>11328</td>\n",
              "      <td>28066</td>\n",
              "      <td>3</td>\n",
              "      <td>Mississippi</td>\n",
              "      <td>27201</td>\n",
              "      <td>12.594980</td>\n",
              "      <td>12.995504</td>\n",
              "    </tr>\n",
              "  </tbody>\n",
              "</table>\n",
              "</div>\n",
              "      <button class=\"colab-df-convert\" onclick=\"convertToInteractive('df-2ed9762f-bcc1-445e-9019-05b2fc5bd296')\"\n",
              "              title=\"Convert this dataframe to an interactive table.\"\n",
              "              style=\"display:none;\">\n",
              "        \n",
              "  <svg xmlns=\"http://www.w3.org/2000/svg\" height=\"24px\"viewBox=\"0 0 24 24\"\n",
              "       width=\"24px\">\n",
              "    <path d=\"M0 0h24v24H0V0z\" fill=\"none\"/>\n",
              "    <path d=\"M18.56 5.44l.94 2.06.94-2.06 2.06-.94-2.06-.94-.94-2.06-.94 2.06-2.06.94zm-11 1L8.5 8.5l.94-2.06 2.06-.94-2.06-.94L8.5 2.5l-.94 2.06-2.06.94zm10 10l.94 2.06.94-2.06 2.06-.94-2.06-.94-.94-2.06-.94 2.06-2.06.94z\"/><path d=\"M17.41 7.96l-1.37-1.37c-.4-.4-.92-.59-1.43-.59-.52 0-1.04.2-1.43.59L10.3 9.45l-7.72 7.72c-.78.78-.78 2.05 0 2.83L4 21.41c.39.39.9.59 1.41.59.51 0 1.02-.2 1.41-.59l7.78-7.78 2.81-2.81c.8-.78.8-2.07 0-2.86zM5.41 20L4 18.59l7.72-7.72 1.47 1.35L5.41 20z\"/>\n",
              "  </svg>\n",
              "      </button>\n",
              "      \n",
              "  <style>\n",
              "    .colab-df-container {\n",
              "      display:flex;\n",
              "      flex-wrap:wrap;\n",
              "      gap: 12px;\n",
              "    }\n",
              "\n",
              "    .colab-df-convert {\n",
              "      background-color: #E8F0FE;\n",
              "      border: none;\n",
              "      border-radius: 50%;\n",
              "      cursor: pointer;\n",
              "      display: none;\n",
              "      fill: #1967D2;\n",
              "      height: 32px;\n",
              "      padding: 0 0 0 0;\n",
              "      width: 32px;\n",
              "    }\n",
              "\n",
              "    .colab-df-convert:hover {\n",
              "      background-color: #E2EBFA;\n",
              "      box-shadow: 0px 1px 2px rgba(60, 64, 67, 0.3), 0px 1px 3px 1px rgba(60, 64, 67, 0.15);\n",
              "      fill: #174EA6;\n",
              "    }\n",
              "\n",
              "    [theme=dark] .colab-df-convert {\n",
              "      background-color: #3B4455;\n",
              "      fill: #D2E3FC;\n",
              "    }\n",
              "\n",
              "    [theme=dark] .colab-df-convert:hover {\n",
              "      background-color: #434B5C;\n",
              "      box-shadow: 0px 1px 3px 1px rgba(0, 0, 0, 0.15);\n",
              "      filter: drop-shadow(0px 1px 2px rgba(0, 0, 0, 0.3));\n",
              "      fill: #FFFFFF;\n",
              "    }\n",
              "  </style>\n",
              "\n",
              "      <script>\n",
              "        const buttonEl =\n",
              "          document.querySelector('#df-2ed9762f-bcc1-445e-9019-05b2fc5bd296 button.colab-df-convert');\n",
              "        buttonEl.style.display =\n",
              "          google.colab.kernel.accessAllowed ? 'block' : 'none';\n",
              "\n",
              "        async function convertToInteractive(key) {\n",
              "          const element = document.querySelector('#df-2ed9762f-bcc1-445e-9019-05b2fc5bd296');\n",
              "          const dataTable =\n",
              "            await google.colab.kernel.invokeFunction('convertToInteractive',\n",
              "                                                     [key], {});\n",
              "          if (!dataTable) return;\n",
              "\n",
              "          const docLinkHtml = 'Like what you see? Visit the ' +\n",
              "            '<a target=\"_blank\" href=https://colab.research.google.com/notebooks/data_table.ipynb>data table notebook</a>'\n",
              "            + ' to learn more about interactive tables.';\n",
              "          element.innerHTML = '';\n",
              "          dataTable['output_type'] = 'display_data';\n",
              "          await google.colab.output.renderOutput(dataTable, element);\n",
              "          const docLink = document.createElement('div');\n",
              "          docLink.innerHTML = docLinkHtml;\n",
              "          element.appendChild(docLink);\n",
              "        }\n",
              "      </script>\n",
              "    </div>\n",
              "  </div>\n",
              "  "
            ]
          },
          "metadata": {},
          "execution_count": 3
        }
      ]
    },
    {
      "cell_type": "markdown",
      "source": [
        "A calculation was created to exhibit the percentage of white males ages 20-29 and the percentage of white males ages 55-64. The total white male population is used as the denominator in this calculation to achieve a common total to compare the two age groups. Additionally, the Libertarian district was removed as it has a sample size of one. "
      ],
      "metadata": {
        "id": "aZWLzu3gHpS4"
      },
      "id": "aZWLzu3gHpS4"
    },
    {
      "cell_type": "markdown",
      "source": [
        "## **Merging Age Data with Party Affiliation Data**"
      ],
      "metadata": {
        "id": "RhWQhanA6sYt"
      },
      "id": "RhWQhanA6sYt"
    },
    {
      "cell_type": "markdown",
      "source": [
        "Now let's get our party affiliation data in a state to merge with the ACS data."
      ],
      "metadata": {
        "id": "4Z-m4r-FaMna"
      },
      "id": "4Z-m4r-FaMna"
    },
    {
      "cell_type": "code",
      "source": [
        "# read from the congressional data and put into a pandas dataframe\n",
        "party_df = pd.read_csv(\"http://goodcsv.com/wp-content/uploads/2020/08/us-house-of-representatives-2020.csv\", encoding = \"ISO-8859-1\")\n",
        "\n",
        "# extract the district number from the data (it was in the format of 5th and we want that to just be 5) using a regular expression.\n",
        "party_df['district number'] = party_df['District/Position'].str.extract('(\\d+)')\n",
        "party_df['district number'] = party_df['district number'].fillna(0)\n",
        "party_df['district number'] = pd.to_numeric(party_df['district number'])\n",
        "party_df['State'] = party_df['State/Territory']\n",
        "party_df['State'] = party_df['State'].str.strip()\n",
        "party_df['Party'] = party_df['Party'].str.strip() \n",
        "\n",
        "# keep the columns we need\n",
        "party_df = party_df[['State', 'Party', \"district number\"]]\n",
        "\n",
        "party_df.head()"
      ],
      "metadata": {
        "colab": {
          "base_uri": "https://localhost:8080/",
          "height": 206
        },
        "id": "v_j3pUTBi5rg",
        "outputId": "7b40142e-ced6-4c6d-bb33-63b58780139a"
      },
      "execution_count": 4,
      "outputs": [
        {
          "output_type": "execute_result",
          "data": {
            "text/plain": [
              "            State Party  district number\n",
              "0       Louisiana     R                5\n",
              "1  North Carolina     D               12\n",
              "2         Alabama     R                4\n",
              "3      California     D               31\n",
              "4         Georgia     R               12"
            ],
            "text/html": [
              "\n",
              "  <div id=\"df-86805b37-afe7-468c-b6bc-78cac4319588\">\n",
              "    <div class=\"colab-df-container\">\n",
              "      <div>\n",
              "<style scoped>\n",
              "    .dataframe tbody tr th:only-of-type {\n",
              "        vertical-align: middle;\n",
              "    }\n",
              "\n",
              "    .dataframe tbody tr th {\n",
              "        vertical-align: top;\n",
              "    }\n",
              "\n",
              "    .dataframe thead th {\n",
              "        text-align: right;\n",
              "    }\n",
              "</style>\n",
              "<table border=\"1\" class=\"dataframe\">\n",
              "  <thead>\n",
              "    <tr style=\"text-align: right;\">\n",
              "      <th></th>\n",
              "      <th>State</th>\n",
              "      <th>Party</th>\n",
              "      <th>district number</th>\n",
              "    </tr>\n",
              "  </thead>\n",
              "  <tbody>\n",
              "    <tr>\n",
              "      <th>0</th>\n",
              "      <td>Louisiana</td>\n",
              "      <td>R</td>\n",
              "      <td>5</td>\n",
              "    </tr>\n",
              "    <tr>\n",
              "      <th>1</th>\n",
              "      <td>North Carolina</td>\n",
              "      <td>D</td>\n",
              "      <td>12</td>\n",
              "    </tr>\n",
              "    <tr>\n",
              "      <th>2</th>\n",
              "      <td>Alabama</td>\n",
              "      <td>R</td>\n",
              "      <td>4</td>\n",
              "    </tr>\n",
              "    <tr>\n",
              "      <th>3</th>\n",
              "      <td>California</td>\n",
              "      <td>D</td>\n",
              "      <td>31</td>\n",
              "    </tr>\n",
              "    <tr>\n",
              "      <th>4</th>\n",
              "      <td>Georgia</td>\n",
              "      <td>R</td>\n",
              "      <td>12</td>\n",
              "    </tr>\n",
              "  </tbody>\n",
              "</table>\n",
              "</div>\n",
              "      <button class=\"colab-df-convert\" onclick=\"convertToInteractive('df-86805b37-afe7-468c-b6bc-78cac4319588')\"\n",
              "              title=\"Convert this dataframe to an interactive table.\"\n",
              "              style=\"display:none;\">\n",
              "        \n",
              "  <svg xmlns=\"http://www.w3.org/2000/svg\" height=\"24px\"viewBox=\"0 0 24 24\"\n",
              "       width=\"24px\">\n",
              "    <path d=\"M0 0h24v24H0V0z\" fill=\"none\"/>\n",
              "    <path d=\"M18.56 5.44l.94 2.06.94-2.06 2.06-.94-2.06-.94-.94-2.06-.94 2.06-2.06.94zm-11 1L8.5 8.5l.94-2.06 2.06-.94-2.06-.94L8.5 2.5l-.94 2.06-2.06.94zm10 10l.94 2.06.94-2.06 2.06-.94-2.06-.94-.94-2.06-.94 2.06-2.06.94z\"/><path d=\"M17.41 7.96l-1.37-1.37c-.4-.4-.92-.59-1.43-.59-.52 0-1.04.2-1.43.59L10.3 9.45l-7.72 7.72c-.78.78-.78 2.05 0 2.83L4 21.41c.39.39.9.59 1.41.59.51 0 1.02-.2 1.41-.59l7.78-7.78 2.81-2.81c.8-.78.8-2.07 0-2.86zM5.41 20L4 18.59l7.72-7.72 1.47 1.35L5.41 20z\"/>\n",
              "  </svg>\n",
              "      </button>\n",
              "      \n",
              "  <style>\n",
              "    .colab-df-container {\n",
              "      display:flex;\n",
              "      flex-wrap:wrap;\n",
              "      gap: 12px;\n",
              "    }\n",
              "\n",
              "    .colab-df-convert {\n",
              "      background-color: #E8F0FE;\n",
              "      border: none;\n",
              "      border-radius: 50%;\n",
              "      cursor: pointer;\n",
              "      display: none;\n",
              "      fill: #1967D2;\n",
              "      height: 32px;\n",
              "      padding: 0 0 0 0;\n",
              "      width: 32px;\n",
              "    }\n",
              "\n",
              "    .colab-df-convert:hover {\n",
              "      background-color: #E2EBFA;\n",
              "      box-shadow: 0px 1px 2px rgba(60, 64, 67, 0.3), 0px 1px 3px 1px rgba(60, 64, 67, 0.15);\n",
              "      fill: #174EA6;\n",
              "    }\n",
              "\n",
              "    [theme=dark] .colab-df-convert {\n",
              "      background-color: #3B4455;\n",
              "      fill: #D2E3FC;\n",
              "    }\n",
              "\n",
              "    [theme=dark] .colab-df-convert:hover {\n",
              "      background-color: #434B5C;\n",
              "      box-shadow: 0px 1px 3px 1px rgba(0, 0, 0, 0.15);\n",
              "      filter: drop-shadow(0px 1px 2px rgba(0, 0, 0, 0.3));\n",
              "      fill: #FFFFFF;\n",
              "    }\n",
              "  </style>\n",
              "\n",
              "      <script>\n",
              "        const buttonEl =\n",
              "          document.querySelector('#df-86805b37-afe7-468c-b6bc-78cac4319588 button.colab-df-convert');\n",
              "        buttonEl.style.display =\n",
              "          google.colab.kernel.accessAllowed ? 'block' : 'none';\n",
              "\n",
              "        async function convertToInteractive(key) {\n",
              "          const element = document.querySelector('#df-86805b37-afe7-468c-b6bc-78cac4319588');\n",
              "          const dataTable =\n",
              "            await google.colab.kernel.invokeFunction('convertToInteractive',\n",
              "                                                     [key], {});\n",
              "          if (!dataTable) return;\n",
              "\n",
              "          const docLinkHtml = 'Like what you see? Visit the ' +\n",
              "            '<a target=\"_blank\" href=https://colab.research.google.com/notebooks/data_table.ipynb>data table notebook</a>'\n",
              "            + ' to learn more about interactive tables.';\n",
              "          element.innerHTML = '';\n",
              "          dataTable['output_type'] = 'display_data';\n",
              "          await google.colab.output.renderOutput(dataTable, element);\n",
              "          const docLink = document.createElement('div');\n",
              "          docLink.innerHTML = docLinkHtml;\n",
              "          element.appendChild(docLink);\n",
              "        }\n",
              "      </script>\n",
              "    </div>\n",
              "  </div>\n",
              "  "
            ]
          },
          "metadata": {},
          "execution_count": 4
        }
      ],
      "id": "v_j3pUTBi5rg"
    },
    {
      "cell_type": "code",
      "source": [
        "# join on the State and District numbers \n",
        "merged_df = pd.merge(acs_df, party_df, on=[\"State\", \"district number\"])\n",
        "\n",
        "# use describe() tells you stats \n",
        "merged_df.describe()"
      ],
      "metadata": {
        "id": "RaOrihV8o_41",
        "colab": {
          "base_uri": "https://localhost:8080/",
          "height": 362
        },
        "outputId": "f0efe945-9148-4d1d-c08e-cac36b1cd9f2"
      },
      "execution_count": 5,
      "outputs": [
        {
          "output_type": "execute_result",
          "data": {
            "text/plain": [
              "       Total White Male  White Male 20-24  White Male 25-29  White Male 55-64  \\\n",
              "count        435.000000        435.000000        435.000000        435.000000   \n",
              "mean      231255.248276      14067.280460      14593.225287      33404.218391   \n",
              "std        78701.419354       5816.797023       5015.165364      12078.912405   \n",
              "min        22732.000000       1911.000000       1105.000000       2188.000000   \n",
              "25%       177610.500000      10026.000000      11517.500000      25726.000000   \n",
              "50%       247007.000000      14316.000000      15095.000000      35693.000000   \n",
              "75%       293137.500000      17615.500000      17657.500000      43205.500000   \n",
              "max       477322.000000      36174.000000      31218.000000      65977.000000   \n",
              "\n",
              "       district number  White Male 20-29  % of White Male 20-29 years old  \\\n",
              "count       435.000000        435.000000                       435.000000   \n",
              "mean         10.158621      28660.505747                        12.571197   \n",
              "std          10.656779      10257.125260                         2.333636   \n",
              "min           0.000000       3613.000000                         6.779134   \n",
              "25%           3.000000      21792.000000                        11.106396   \n",
              "50%           6.000000      29551.000000                        12.184877   \n",
              "75%          13.000000      36010.000000                        13.567073   \n",
              "max          53.000000      63927.000000                        23.916718   \n",
              "\n",
              "       % of White Male 55-64 years old  \n",
              "count                       435.000000  \n",
              "mean                         14.357329  \n",
              "std                           1.759851  \n",
              "min                           6.385980  \n",
              "25%                          13.413465  \n",
              "50%                          14.434745  \n",
              "75%                          15.468617  \n",
              "max                          18.473991  "
            ],
            "text/html": [
              "\n",
              "  <div id=\"df-893724ee-daf5-4a04-af11-e12a21b88eca\">\n",
              "    <div class=\"colab-df-container\">\n",
              "      <div>\n",
              "<style scoped>\n",
              "    .dataframe tbody tr th:only-of-type {\n",
              "        vertical-align: middle;\n",
              "    }\n",
              "\n",
              "    .dataframe tbody tr th {\n",
              "        vertical-align: top;\n",
              "    }\n",
              "\n",
              "    .dataframe thead th {\n",
              "        text-align: right;\n",
              "    }\n",
              "</style>\n",
              "<table border=\"1\" class=\"dataframe\">\n",
              "  <thead>\n",
              "    <tr style=\"text-align: right;\">\n",
              "      <th></th>\n",
              "      <th>Total White Male</th>\n",
              "      <th>White Male 20-24</th>\n",
              "      <th>White Male 25-29</th>\n",
              "      <th>White Male 55-64</th>\n",
              "      <th>district number</th>\n",
              "      <th>White Male 20-29</th>\n",
              "      <th>% of White Male 20-29 years old</th>\n",
              "      <th>% of White Male 55-64 years old</th>\n",
              "    </tr>\n",
              "  </thead>\n",
              "  <tbody>\n",
              "    <tr>\n",
              "      <th>count</th>\n",
              "      <td>435.000000</td>\n",
              "      <td>435.000000</td>\n",
              "      <td>435.000000</td>\n",
              "      <td>435.000000</td>\n",
              "      <td>435.000000</td>\n",
              "      <td>435.000000</td>\n",
              "      <td>435.000000</td>\n",
              "      <td>435.000000</td>\n",
              "    </tr>\n",
              "    <tr>\n",
              "      <th>mean</th>\n",
              "      <td>231255.248276</td>\n",
              "      <td>14067.280460</td>\n",
              "      <td>14593.225287</td>\n",
              "      <td>33404.218391</td>\n",
              "      <td>10.158621</td>\n",
              "      <td>28660.505747</td>\n",
              "      <td>12.571197</td>\n",
              "      <td>14.357329</td>\n",
              "    </tr>\n",
              "    <tr>\n",
              "      <th>std</th>\n",
              "      <td>78701.419354</td>\n",
              "      <td>5816.797023</td>\n",
              "      <td>5015.165364</td>\n",
              "      <td>12078.912405</td>\n",
              "      <td>10.656779</td>\n",
              "      <td>10257.125260</td>\n",
              "      <td>2.333636</td>\n",
              "      <td>1.759851</td>\n",
              "    </tr>\n",
              "    <tr>\n",
              "      <th>min</th>\n",
              "      <td>22732.000000</td>\n",
              "      <td>1911.000000</td>\n",
              "      <td>1105.000000</td>\n",
              "      <td>2188.000000</td>\n",
              "      <td>0.000000</td>\n",
              "      <td>3613.000000</td>\n",
              "      <td>6.779134</td>\n",
              "      <td>6.385980</td>\n",
              "    </tr>\n",
              "    <tr>\n",
              "      <th>25%</th>\n",
              "      <td>177610.500000</td>\n",
              "      <td>10026.000000</td>\n",
              "      <td>11517.500000</td>\n",
              "      <td>25726.000000</td>\n",
              "      <td>3.000000</td>\n",
              "      <td>21792.000000</td>\n",
              "      <td>11.106396</td>\n",
              "      <td>13.413465</td>\n",
              "    </tr>\n",
              "    <tr>\n",
              "      <th>50%</th>\n",
              "      <td>247007.000000</td>\n",
              "      <td>14316.000000</td>\n",
              "      <td>15095.000000</td>\n",
              "      <td>35693.000000</td>\n",
              "      <td>6.000000</td>\n",
              "      <td>29551.000000</td>\n",
              "      <td>12.184877</td>\n",
              "      <td>14.434745</td>\n",
              "    </tr>\n",
              "    <tr>\n",
              "      <th>75%</th>\n",
              "      <td>293137.500000</td>\n",
              "      <td>17615.500000</td>\n",
              "      <td>17657.500000</td>\n",
              "      <td>43205.500000</td>\n",
              "      <td>13.000000</td>\n",
              "      <td>36010.000000</td>\n",
              "      <td>13.567073</td>\n",
              "      <td>15.468617</td>\n",
              "    </tr>\n",
              "    <tr>\n",
              "      <th>max</th>\n",
              "      <td>477322.000000</td>\n",
              "      <td>36174.000000</td>\n",
              "      <td>31218.000000</td>\n",
              "      <td>65977.000000</td>\n",
              "      <td>53.000000</td>\n",
              "      <td>63927.000000</td>\n",
              "      <td>23.916718</td>\n",
              "      <td>18.473991</td>\n",
              "    </tr>\n",
              "  </tbody>\n",
              "</table>\n",
              "</div>\n",
              "      <button class=\"colab-df-convert\" onclick=\"convertToInteractive('df-893724ee-daf5-4a04-af11-e12a21b88eca')\"\n",
              "              title=\"Convert this dataframe to an interactive table.\"\n",
              "              style=\"display:none;\">\n",
              "        \n",
              "  <svg xmlns=\"http://www.w3.org/2000/svg\" height=\"24px\"viewBox=\"0 0 24 24\"\n",
              "       width=\"24px\">\n",
              "    <path d=\"M0 0h24v24H0V0z\" fill=\"none\"/>\n",
              "    <path d=\"M18.56 5.44l.94 2.06.94-2.06 2.06-.94-2.06-.94-.94-2.06-.94 2.06-2.06.94zm-11 1L8.5 8.5l.94-2.06 2.06-.94-2.06-.94L8.5 2.5l-.94 2.06-2.06.94zm10 10l.94 2.06.94-2.06 2.06-.94-2.06-.94-.94-2.06-.94 2.06-2.06.94z\"/><path d=\"M17.41 7.96l-1.37-1.37c-.4-.4-.92-.59-1.43-.59-.52 0-1.04.2-1.43.59L10.3 9.45l-7.72 7.72c-.78.78-.78 2.05 0 2.83L4 21.41c.39.39.9.59 1.41.59.51 0 1.02-.2 1.41-.59l7.78-7.78 2.81-2.81c.8-.78.8-2.07 0-2.86zM5.41 20L4 18.59l7.72-7.72 1.47 1.35L5.41 20z\"/>\n",
              "  </svg>\n",
              "      </button>\n",
              "      \n",
              "  <style>\n",
              "    .colab-df-container {\n",
              "      display:flex;\n",
              "      flex-wrap:wrap;\n",
              "      gap: 12px;\n",
              "    }\n",
              "\n",
              "    .colab-df-convert {\n",
              "      background-color: #E8F0FE;\n",
              "      border: none;\n",
              "      border-radius: 50%;\n",
              "      cursor: pointer;\n",
              "      display: none;\n",
              "      fill: #1967D2;\n",
              "      height: 32px;\n",
              "      padding: 0 0 0 0;\n",
              "      width: 32px;\n",
              "    }\n",
              "\n",
              "    .colab-df-convert:hover {\n",
              "      background-color: #E2EBFA;\n",
              "      box-shadow: 0px 1px 2px rgba(60, 64, 67, 0.3), 0px 1px 3px 1px rgba(60, 64, 67, 0.15);\n",
              "      fill: #174EA6;\n",
              "    }\n",
              "\n",
              "    [theme=dark] .colab-df-convert {\n",
              "      background-color: #3B4455;\n",
              "      fill: #D2E3FC;\n",
              "    }\n",
              "\n",
              "    [theme=dark] .colab-df-convert:hover {\n",
              "      background-color: #434B5C;\n",
              "      box-shadow: 0px 1px 3px 1px rgba(0, 0, 0, 0.15);\n",
              "      filter: drop-shadow(0px 1px 2px rgba(0, 0, 0, 0.3));\n",
              "      fill: #FFFFFF;\n",
              "    }\n",
              "  </style>\n",
              "\n",
              "      <script>\n",
              "        const buttonEl =\n",
              "          document.querySelector('#df-893724ee-daf5-4a04-af11-e12a21b88eca button.colab-df-convert');\n",
              "        buttonEl.style.display =\n",
              "          google.colab.kernel.accessAllowed ? 'block' : 'none';\n",
              "\n",
              "        async function convertToInteractive(key) {\n",
              "          const element = document.querySelector('#df-893724ee-daf5-4a04-af11-e12a21b88eca');\n",
              "          const dataTable =\n",
              "            await google.colab.kernel.invokeFunction('convertToInteractive',\n",
              "                                                     [key], {});\n",
              "          if (!dataTable) return;\n",
              "\n",
              "          const docLinkHtml = 'Like what you see? Visit the ' +\n",
              "            '<a target=\"_blank\" href=https://colab.research.google.com/notebooks/data_table.ipynb>data table notebook</a>'\n",
              "            + ' to learn more about interactive tables.';\n",
              "          element.innerHTML = '';\n",
              "          dataTable['output_type'] = 'display_data';\n",
              "          await google.colab.output.renderOutput(dataTable, element);\n",
              "          const docLink = document.createElement('div');\n",
              "          docLink.innerHTML = docLinkHtml;\n",
              "          element.appendChild(docLink);\n",
              "        }\n",
              "      </script>\n",
              "    </div>\n",
              "  </div>\n",
              "  "
            ]
          },
          "metadata": {},
          "execution_count": 5
        }
      ],
      "id": "RaOrihV8o_41"
    },
    {
      "cell_type": "code",
      "source": [
        "# removed libertarian since only a sample size of 1 \n",
        "merged_df.drop(merged_df[merged_df['Party'] == 'L'].index, inplace = True)\n",
        "\n",
        "# double checked to see if it was removed and look at counts for other 2 parties\n",
        "merged_df['Party'].value_counts()"
      ],
      "metadata": {
        "colab": {
          "base_uri": "https://localhost:8080/"
        },
        "id": "6FAtnwlUxSwn",
        "outputId": "f816f9e6-f026-4518-a71a-79f4d25adf46"
      },
      "execution_count": 6,
      "outputs": [
        {
          "output_type": "execute_result",
          "data": {
            "text/plain": [
              "D    233\n",
              "R    201\n",
              "Name: Party, dtype: int64"
            ]
          },
          "metadata": {},
          "execution_count": 6
        }
      ],
      "id": "6FAtnwlUxSwn"
    },
    {
      "cell_type": "markdown",
      "source": [
        "## **Data Visualization**\n"
      ],
      "metadata": {
        "id": "fwuX6F2d6z73"
      },
      "id": "fwuX6F2d6z73"
    },
    {
      "cell_type": "markdown",
      "source": [
        "### Boxplot with Jitter\n"
      ],
      "metadata": {
        "id": "RHMCKBNoEsB3"
      },
      "id": "RHMCKBNoEsB3"
    },
    {
      "cell_type": "code",
      "source": [
        "# figure size\n",
        "fig, axes = plt.subplots(1, 2, figsize=(12, 8))\n",
        "\n",
        "# boxplot \n",
        "sns.boxplot(x=\"Party\", y=\"% of White Male 20-29 years old\", data=merged_df, color=\"lightgray\", ax=axes[0]).set_ylim(6,25)\n",
        "sns.boxplot(x=\"Party\", y=\"% of White Male 55-64 years old\", data=merged_df, color=\"lightgray\", ax=axes[1]).set_ylim(6,25)\n",
        "\n",
        "# setting color for jitter and grid \n",
        "colors = [\"red\", \"dodgerblue\"]\n",
        "sns.set_palette(colors)\n",
        "sns.set_style(\"whitegrid\")\n",
        "\n",
        "# jitter plot / stripplot\n",
        "sns.stripplot(x=\"Party\", y=\"% of White Male 20-29 years old\", data=merged_df, ax=axes[0]).set_ylim(6,25)\n",
        "sns.stripplot(x=\"Party\", y=\"% of White Male 55-64 years old\", data=merged_df, ax=axes[1]).set_ylim(6,25)\n",
        "\n",
        "# showing the graph\n",
        "fig.tight_layout()\n",
        "fig.suptitle(\"Younger vs Older White Males\", fontsize = 'x-large', fontweight = 'bold' )\n",
        "fig.subplots_adjust(top = 0.90)\n",
        "plt.show()"
      ],
      "metadata": {
        "colab": {
          "base_uri": "https://localhost:8080/",
          "height": 585
        },
        "id": "OfoFrIzD9OJo",
        "outputId": "130bfba2-3add-499b-ffc6-3b51c458ba43"
      },
      "id": "OfoFrIzD9OJo",
      "execution_count": 22,
      "outputs": [
        {
          "output_type": "display_data",
          "data": {
            "text/plain": [
              "<Figure size 864x576 with 2 Axes>"
            ],
            "image/png": "[encoded data removed]"
          },
          "metadata": {}
        }
      ]
    },
    {
      "cell_type": "markdown",
      "source": [
        "Side-by-side boxplots were created to compare the distributions between the younger and older white males. The y-axis indicates the percentage of white males for the younger generations and for the older generations. The x-axis illustrates the two political districts: Republican and Democratic. The boxplot reveals the medians for younger and older white males are similar for both political districts. Additionally, the boxplots reveal that the median values are similar within the same generations for each political area. The Democratic district has a more extensive spread than the Republican for younger and older white males. \n",
        "\n",
        "In general, there is a higher percentage of older white males in both political areas. Within the younger generations, there are more outliers for both districts, increasing the variability. In contrast, the older generations are more consistent due to fewer outliers. \n"
      ],
      "metadata": {
        "id": "cDOu70Y3ZVGm"
      },
      "id": "cDOu70Y3ZVGm"
    },
    {
      "cell_type": "markdown",
      "source": [
        "### Bar Graph"
      ],
      "metadata": {
        "id": "NHCflW2LEtoq"
      },
      "id": "NHCflW2LEtoq"
    },
    {
      "cell_type": "code",
      "source": [
        "# figure size\n",
        "fig, axes = plt.subplots(1, 2, figsize=(12, 8))\n",
        "\n",
        "# setting color for bar graph\n",
        "colors = [\"red\", \"dodgerblue\"]\n",
        "sns.set_palette(colors)\n",
        "sns.set_style(\"whitegrid\")\n",
        "\n",
        "# bar graph\n",
        "sns.barplot(x=\"Party\", y=\"% of White Male 20-29 years old\", data=merged_df, ax=axes[0], ci= None).set_ylim(0,15) \n",
        "sns.barplot(x=\"Party\", y=\"% of White Male 55-64 years old\", data=merged_df, ax=axes[1], ci= None).set_ylim(0,15) \n",
        "\n",
        "# showing the graph\n",
        "fig.tight_layout()\n",
        "fig.suptitle(\"Younger vs Older White Males\", fontsize = 'x-large', fontweight = 'bold' )\n",
        "fig.subplots_adjust(top = 0.90)\n",
        "plt.show()"
      ],
      "metadata": {
        "colab": {
          "base_uri": "https://localhost:8080/",
          "height": 585
        },
        "id": "6I2IULbPEkPW",
        "outputId": "de6a9fc0-a4ff-4b49-c54f-990cf58c5ae9"
      },
      "id": "6I2IULbPEkPW",
      "execution_count": 23,
      "outputs": [
        {
          "output_type": "display_data",
          "data": {
            "text/plain": [
              "<Figure size 864x576 with 2 Axes>"
            ],
            "image/png": "[encoded data removed]"
          },
          "metadata": {}
        }
      ]
    },
    {
      "cell_type": "markdown",
      "source": [
        "Bar graphs were constructed to compare the percentages for each political area. Illustrated in the graph, within the older generations, there is not a significant difference in whether they live in Democratic or Republic districts. However, within the younger generations, there is a greater amount that tends to live in democratic districts. \n"
      ],
      "metadata": {
        "id": "ft0hEkkCZWOc"
      },
      "id": "ft0hEkkCZWOc"
    },
    {
      "cell_type": "markdown",
      "source": [
        "# **Statistical Analysis**\n",
        "\n",
        "Next, more manipulative needed to be done by separating the data into the two political affilcation and two age groups. \n"
      ],
      "metadata": {
        "id": "zHG5pWmqZALG"
      },
      "id": "zHG5pWmqZALG"
    },
    {
      "cell_type": "code",
      "source": [
        "# Democratic District\n",
        "groupD = merged_df[merged_df['Party']=='D']\n",
        "groupD_Y = groupD[['Party', '% of White Male 20-29 years old']]\n",
        "groupD_O = groupD[['Party', '% of White Male 55-64 years old']]\n",
        "\n",
        "# Republican District\n",
        "groupR = merged_df[merged_df['Party']=='R']\n",
        "groupR_Y = groupR[['Party', '% of White Male 20-29 years old']]\n",
        "groupR_O = groupR[['Party', '% of White Male 55-64 years old']]"
      ],
      "metadata": {
        "id": "ZbUFHAQtiOvS"
      },
      "id": "ZbUFHAQtiOvS",
      "execution_count": 9,
      "outputs": []
    },
    {
      "cell_type": "markdown",
      "source": [
        "## Older White Males\n",
        "\n",
        "### Two Sided T Test\n",
        "\n",
        "**Null Hypothesis**: The mean percent of older white males in Democratic districts is equal to the mean percent of older white males in Republican districts \n",
        "\n",
        "**Alternative Hypothesis**: The mean percent of older white males is not equal in Democratic and Republican districts\n"
      ],
      "metadata": {
        "id": "qBHd5mxYiOO8"
      },
      "id": "qBHd5mxYiOO8"
    },
    {
      "cell_type": "code",
      "source": [
        "ttest_ind(groupD_O[\"% of White Male 55-64 years old\"], groupR_O[\"% of White Male 55-64 years old\"])"
      ],
      "metadata": {
        "colab": {
          "base_uri": "https://localhost:8080/"
        },
        "id": "6VHRQXl7AuzL",
        "outputId": "cdfe9f86-808f-4c7d-f349-3ab33bcd46a0"
      },
      "id": "6VHRQXl7AuzL",
      "execution_count": 10,
      "outputs": [
        {
          "output_type": "execute_result",
          "data": {
            "text/plain": [
              "Ttest_indResult(statistic=0.5176145488785472, pvalue=0.604992175706961)"
            ]
          },
          "metadata": {},
          "execution_count": 10
        }
      ]
    },
    {
      "cell_type": "markdown",
      "source": [
        "After conducting a two-sample t-test comparing the mean percent of older white males for Democratic and Republican districts, the test statistic resulted in a value of approximately 0.5176 and the p-value concluded to be about 0.605. Due to the large p-value, we fail to reject the null hypothesis and cannot conclude that there is a difference in percentage of older white males for Republican and Democratic districts. This conclusion supports the analysis completed in the data visualization section of this notebook."
      ],
      "metadata": {
        "id": "gNc6MB-6pOdK"
      },
      "id": "gNc6MB-6pOdK"
    },
    {
      "cell_type": "markdown",
      "source": [
        "## Younger White Males"
      ],
      "metadata": {
        "id": "fXpWX-Go58GC"
      },
      "id": "fXpWX-Go58GC"
    },
    {
      "cell_type": "markdown",
      "source": [
        "### Two Sided T Test\n",
        "**Null Hypothesis**: The mean percent of younger white males in Democratic districts is equal to the mean percent of older white males in Republican districts \n",
        "\n",
        "**Alternative Hypothesis**: The mean percent of younger white males is not equal in Democratic and Republican districts"
      ],
      "metadata": {
        "id": "xfzy2MdN4N8Y"
      },
      "id": "xfzy2MdN4N8Y"
    },
    {
      "cell_type": "code",
      "source": [
        "ttest_ind(groupD_Y[\"% of White Male 20-29 years old\"], groupR_Y[\"% of White Male 20-29 years old\"])"
      ],
      "metadata": {
        "colab": {
          "base_uri": "https://localhost:8080/"
        },
        "id": "LvDpoRy92iWI",
        "outputId": "896f43b3-56c8-420c-8f6c-817426789f7d"
      },
      "id": "LvDpoRy92iWI",
      "execution_count": 11,
      "outputs": [
        {
          "output_type": "execute_result",
          "data": {
            "text/plain": [
              "Ttest_indResult(statistic=4.176094157753062, pvalue=3.589009692120887e-05)"
            ]
          },
          "metadata": {},
          "execution_count": 11
        }
      ]
    },
    {
      "cell_type": "markdown",
      "source": [
        "After conducting a two-sample t-test comparing the mean percent of older white males for Democratic and Republican districts, the test statistic resulted in a value of approximately 4.176 and the p-value concluded to be about 3.589e-05. Due to the small p-value, we reject the null hypothesis and conclude that there is a difference in percentage of younger white males for Republican and Democratic districts. Since this analysis only tests whether there is a difference, a one-sided t-test is conducted below to understand the direction of the difference."
      ],
      "metadata": {
        "id": "mlTpvgV7445y"
      },
      "id": "mlTpvgV7445y"
    },
    {
      "cell_type": "markdown",
      "source": [
        "### One Sided T Test\n",
        "\n",
        "**Null Hypothesis**: The mean percent of younger white males in democratic districts is less than or equal to the mean percent of younger white males in Republican districts \n",
        "\n",
        "**Alternative Hypothesis**: The mean percent of younger white males in democratic districts is greater than the mean percent of younger white males in Republican districts "
      ],
      "metadata": {
        "id": "q0LqppNrnt50"
      },
      "id": "q0LqppNrnt50"
    },
    {
      "cell_type": "code",
      "source": [
        "ttest_ind(groupD_Y[\"% of White Male 20-29 years old\"], groupR_Y[\"% of White Male 20-29 years old\"], alternative = \"greater\")"
      ],
      "metadata": {
        "colab": {
          "base_uri": "https://localhost:8080/"
        },
        "id": "Eycr5uygkUEt",
        "outputId": "beb5d23a-55a3-4ebf-e47c-1e678bf49874"
      },
      "id": "Eycr5uygkUEt",
      "execution_count": 12,
      "outputs": [
        {
          "output_type": "execute_result",
          "data": {
            "text/plain": [
              "Ttest_indResult(statistic=4.176094157753062, pvalue=1.7945048460604434e-05)"
            ]
          },
          "metadata": {},
          "execution_count": 12
        }
      ]
    },
    {
      "cell_type": "markdown",
      "source": [
        "After conducting a two-sample one-sided t-test to test if mean perecent of younger white males for Democratic districts is greater than Republican districts, the test statistic resulted in a value of approximately 0.4176 and the p-value concluded to be about 1.7945e-05. The small p-value indicates that we reject the null hypothesis and conclude that the mean percentage of younger white males in democratic districts is greater than the mean percentage of younger white males in Republican districts. This conclusion is consistent with the analysis found in the data visualization section of this notebook.\n"
      ],
      "metadata": {
        "id": "z_AgTvnDGa2B"
      },
      "id": "z_AgTvnDGa2B"
    },
    {
      "cell_type": "markdown",
      "source": [
        "# **Conclusion**\n",
        "\n",
        "In conclusion, the visualizations of the data revealed similar median percentages of ages for Democratic and Republican districts within each of the generations. The bar graphs revealed within the older generations, there is not a significant difference in whether they live in Democratic or Republic districts. However, within the younger generations, there is a greater amount that tends to live in democratic districts. \n",
        "\n",
        "Statistical analyses were computed based on the findings in the visualizations. A two-sided t-test was conducted to compare the mean difference of the percentage of older white males in Democratic and Republican districts. The result of the statistical analysis is consistent with the findings from the visualizations. That is, there is not enough evidence to conclude that there is a difference in percentage of older white males in political districts. Additionally, a one-sided t-test was conducted to test if the mean percentage of younger white males for Democratic districts is greater than Republican districts. The results indicated that there is a greater mean percentage of younger white males in Democratic districts than in the Republic. \n",
        "\n",
        "The analysis supports part of our initial hypothesis: that in general, more younger white males live in Democratic districts. However, there is not enough evidence to support the other part of the hypothesis: that in general, more older white males live in Republican districts. Further analysis that could be explored include integrating additional age categories, expanding the analysis to other races, or incorporating females.\n",
        "\n"
      ],
      "metadata": {
        "id": "KOPXQ9UTrpNL"
      },
      "id": "KOPXQ9UTrpNL"
    },
    {
      "cell_type": "markdown",
      "source": [
        "## **Sources**\n",
        "U.S. Census Bureau About White Males (https://www.visualcapitalist.com/visualizing-u-s-population-by-race/) \n",
        "\n",
        "Census Data for the Ages Groups for White Males, District Number, State\n",
        "(https://api.census.gov/data/2021/acs/acs1?get=NAME,B01001A_002E,B01001A_008E,B01001A_012E&for=congressional%20district:*&in=state)\n",
        "\n",
        "Data for Political Affiliation\n",
        "(http://goodcsv.com/wp-content/uploads/2020/08/us-house-of-representatives-2020.csv) \n"
      ],
      "metadata": {
        "id": "IG9PTQ1PqaoS"
      },
      "id": "IG9PTQ1PqaoS"
    }
  ]
}