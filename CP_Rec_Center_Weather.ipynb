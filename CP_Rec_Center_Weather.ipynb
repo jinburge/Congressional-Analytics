{
  "nbformat": 4,
  "nbformat_minor": 0,
  "metadata": {
    "colab": {
      "provenance": [],
      "include_colab_link": true
    },
    "kernelspec": {
      "name": "python3",
      "display_name": "Python 3"
    },
    "language_info": {
      "name": "python"
    }
  },
  "cells": [
    {
      "cell_type": "markdown",
      "metadata": {
        "id": "view-in-github",
        "colab_type": "text"
      },
      "source": [
        "<a href=\"https://colab.research.google.com/github/jinburge/Congressional-Analytics/blob/main/CP_Rec_Center_Weather.ipynb\" target=\"_parent\"><img src=\"https://colab.research.google.com/assets/colab-badge.svg\" alt=\"Open In Colab\"/></a>"
      ]
    },
    {
      "cell_type": "markdown",
      "source": [
        "# ***Does Weather Influence the Congestion at the Cal Poly Rec Center?***\n",
        "\n",
        "#### By Jin Burge (jbburge@calpoly.edu) and Athena Kwok (akwok01@calpoly.edu)\n",
        "\n",
        "#### Feburary 28, 2022"
      ],
      "metadata": {
        "id": "nVJTZYDnJHr5"
      }
    },
    {
      "cell_type": "markdown",
      "source": [
        "## **Introduction**\n",
        "\n",
        "The Cal Poly Rec Center is one of the main attractions of the beautiful campus and a popular destination for students. One of the only complaints heard regarding the facility is the over-crowdedness, possibly deterring students from entering. \n",
        "\n",
        "The weather in San Luis Obispo is known to be sunny and warm in the spring and summer, and cold and cloudy during the winter. This year, more extreme weather occurred from reaching a scorching 104 degrees Fahrenheit in early September to a brutal storm in early January. \n",
        "\n",
        "\n",
        "For our final project, we are interested in how weather influences the congestion at the Cal Poly Rec Center. After contacting Cal Poly ASI, we were provided with gate entry statistics at the recreation center. Although we desired to obtain multiple years of data to analyze these trends, Covid restrictions from the year prior would not give us an accurate depiction of entry patterns. Therefore, we were limited with the amount of data given and are using gate entry statistics from *September 12, 2022 to February 20, 2023*. \n",
        "\n",
        "\n",
        "Given the data provided, we speculate that students would be more motivated to use the recreation center when the weather is colder. When the weather is warmer, we imagine that there are more alternative activities that students would partake in, such as going to the beach, hiking on trails, or playing outdoor sports. Contrastingly, when the temperature is lower (or possibly even raining), students will feel confined indoors and will not have as many options for activities. \n",
        "\n",
        "\n",
        "Thus, our hypothesis is that, *in general, a decrease in temperature is correlated with an increase in the amount of people who use the Cal Poly Rec Center*. \n",
        "\n"
      ],
      "metadata": {
        "id": "v_M9pk3yJjsv"
      }
    },
    {
      "cell_type": "markdown",
      "source": [
        "## **Scrape Weather Data**"
      ],
      "metadata": {
        "id": "l7VEfy6L0jFV"
      }
    },
    {
      "cell_type": "code",
      "execution_count": null,
      "metadata": {
        "id": "Ez-rR3hApiXM"
      },
      "outputs": [],
      "source": [
        "# Reading in Libraries\n",
        "import pandas as pd \n",
        "from pandas.tseries.offsets import BDay\n",
        "import json \n",
        "from urllib.request import urlopen \n",
        "import matplotlib.pyplot as plt\n",
        "from scipy.stats import pearsonr\n",
        "import seaborn as sns\n",
        "import warnings\n",
        "warnings.filterwarnings('ignore')"
      ]
    },
    {
      "cell_type": "code",
      "source": [
        "pip install meteostat"
      ],
      "metadata": {
        "colab": {
          "base_uri": "https://localhost:8080/"
        },
        "id": "mmj-vaUuwMww",
        "outputId": "d03fc919-9793-4c3d-9443-6366db6b7b40"
      },
      "execution_count": null,
      "outputs": [
        {
          "output_type": "stream",
          "name": "stdout",
          "text": [
            "Looking in indexes: https://pypi.org/simple, https://us-python.pkg.dev/colab-wheels/public/simple/\n",
            "Collecting meteostat\n",
            "  Downloading meteostat-1.6.5-py3-none-any.whl (31 kB)\n",
            "Requirement already satisfied: pandas>=1.1 in /usr/local/lib/python3.8/dist-packages (from meteostat) (1.3.5)\n",
            "Requirement already satisfied: pytz in /usr/local/lib/python3.8/dist-packages (from meteostat) (2022.7.1)\n",
            "Requirement already satisfied: numpy in /usr/local/lib/python3.8/dist-packages (from meteostat) (1.22.4)\n",
            "Requirement already satisfied: python-dateutil>=2.7.3 in /usr/local/lib/python3.8/dist-packages (from pandas>=1.1->meteostat) (2.8.2)\n",
            "Requirement already satisfied: six>=1.5 in /usr/local/lib/python3.8/dist-packages (from python-dateutil>=2.7.3->pandas>=1.1->meteostat) (1.15.0)\n",
            "Installing collected packages: meteostat\n",
            "Successfully installed meteostat-1.6.5\n"
          ]
        }
      ]
    },
    {
      "cell_type": "code",
      "source": [
        "# Import Meteostat library and dependencies\n",
        "from datetime import datetime\n",
        "import matplotlib.pyplot as plt\n",
        "from meteostat import Point, Daily\n",
        "\n",
        "# Set time period\n",
        "start = datetime(2022, 9, 12)\n",
        "end = datetime(2023, 2, 20)\n",
        "\n",
        "# Create Point for San Luis Obispo\n",
        "location = Point(35.2827524, -120.680656, 70)\n",
        "\n",
        "# Get daily data for 9/12/22 to 2/20/23\n",
        "data = Daily(location, start, end)\n",
        "data = data.fetch()\n",
        "\n",
        "# Extract only average temperature \n",
        "cols = [\"time\", \"tavg\"]\n",
        "weather_df = pd.DataFrame(data, columns = cols)\n",
        "\n",
        "# Convert degrees Celsius to Fahrenheit\n",
        "weather_df[\"Average Temperature (F)\"] = 1.8*weather_df[\"tavg\"] + 32"
      ],
      "metadata": {
        "id": "amj4T4sJvfpo"
      },
      "execution_count": null,
      "outputs": []
    },
    {
      "cell_type": "code",
      "source": [
        "from google.colab import drive\n",
        "drive.mount('drive')\n",
        "\n",
        "weather_df.to_csv('df.csv')\n",
        "!cp df.csv \"drive/My Drive/\""
      ],
      "metadata": {
        "colab": {
          "base_uri": "https://localhost:8080/"
        },
        "id": "3fXpZ9_EnGtV",
        "outputId": "7c9f80a2-3fd2-4f2a-b9ce-4d733e757598"
      },
      "execution_count": null,
      "outputs": [
        {
          "output_type": "stream",
          "name": "stdout",
          "text": [
            "Mounted at drive\n"
          ]
        }
      ]
    },
    {
      "cell_type": "code",
      "source": [
        "url = 'https://raw.githubusercontent.com/jinburge/FinalProject/main/weather_df2.csv'\n",
        "weather_df2 = pd.read_csv(url)\n",
        "\n",
        "weather_df2[\"Average Temperature (F)\"] = weather_df2[\"tF\"]\n",
        "weather_df2 = weather_df2.drop(columns = [\"tF\"])\n",
        "\n",
        "weather_df2.head()\n"
      ],
      "metadata": {
        "colab": {
          "base_uri": "https://localhost:8080/",
          "height": 206
        },
        "id": "xsnYoR1pwuOf",
        "outputId": "5fa670ff-be4c-488e-811e-06537b8e09ce"
      },
      "execution_count": null,
      "outputs": [
        {
          "output_type": "execute_result",
          "data": {
            "text/plain": [
              "      time  tavg  Average Temperature (F)\n",
              "0  9/12/22  20.8                    69.44\n",
              "1  9/13/22  19.0                    66.20\n",
              "2  9/14/22  18.4                    65.12\n",
              "3  9/15/22  18.1                    64.58\n",
              "4  9/16/22  18.0                    64.40"
            ],
            "text/html": [
              "\n",
              "  <div id=\"df-c00df7eb-4291-4888-925f-2761a079e2ef\">\n",
              "    <div class=\"colab-df-container\">\n",
              "      <div>\n",
              "<style scoped>\n",
              "    .dataframe tbody tr th:only-of-type {\n",
              "        vertical-align: middle;\n",
              "    }\n",
              "\n",
              "    .dataframe tbody tr th {\n",
              "        vertical-align: top;\n",
              "    }\n",
              "\n",
              "    .dataframe thead th {\n",
              "        text-align: right;\n",
              "    }\n",
              "</style>\n",
              "<table border=\"1\" class=\"dataframe\">\n",
              "  <thead>\n",
              "    <tr style=\"text-align: right;\">\n",
              "      <th></th>\n",
              "      <th>time</th>\n",
              "      <th>tavg</th>\n",
              "      <th>Average Temperature (F)</th>\n",
              "    </tr>\n",
              "  </thead>\n",
              "  <tbody>\n",
              "    <tr>\n",
              "      <th>0</th>\n",
              "      <td>9/12/22</td>\n",
              "      <td>20.8</td>\n",
              "      <td>69.44</td>\n",
              "    </tr>\n",
              "    <tr>\n",
              "      <th>1</th>\n",
              "      <td>9/13/22</td>\n",
              "      <td>19.0</td>\n",
              "      <td>66.20</td>\n",
              "    </tr>\n",
              "    <tr>\n",
              "      <th>2</th>\n",
              "      <td>9/14/22</td>\n",
              "      <td>18.4</td>\n",
              "      <td>65.12</td>\n",
              "    </tr>\n",
              "    <tr>\n",
              "      <th>3</th>\n",
              "      <td>9/15/22</td>\n",
              "      <td>18.1</td>\n",
              "      <td>64.58</td>\n",
              "    </tr>\n",
              "    <tr>\n",
              "      <th>4</th>\n",
              "      <td>9/16/22</td>\n",
              "      <td>18.0</td>\n",
              "      <td>64.40</td>\n",
              "    </tr>\n",
              "  </tbody>\n",
              "</table>\n",
              "</div>\n",
              "      <button class=\"colab-df-convert\" onclick=\"convertToInteractive('df-c00df7eb-4291-4888-925f-2761a079e2ef')\"\n",
              "              title=\"Convert this dataframe to an interactive table.\"\n",
              "              style=\"display:none;\">\n",
              "        \n",
              "  <svg xmlns=\"http://www.w3.org/2000/svg\" height=\"24px\"viewBox=\"0 0 24 24\"\n",
              "       width=\"24px\">\n",
              "    <path d=\"M0 0h24v24H0V0z\" fill=\"none\"/>\n",
              "    <path d=\"M18.56 5.44l.94 2.06.94-2.06 2.06-.94-2.06-.94-.94-2.06-.94 2.06-2.06.94zm-11 1L8.5 8.5l.94-2.06 2.06-.94-2.06-.94L8.5 2.5l-.94 2.06-2.06.94zm10 10l.94 2.06.94-2.06 2.06-.94-2.06-.94-.94-2.06-.94 2.06-2.06.94z\"/><path d=\"M17.41 7.96l-1.37-1.37c-.4-.4-.92-.59-1.43-.59-.52 0-1.04.2-1.43.59L10.3 9.45l-7.72 7.72c-.78.78-.78 2.05 0 2.83L4 21.41c.39.39.9.59 1.41.59.51 0 1.02-.2 1.41-.59l7.78-7.78 2.81-2.81c.8-.78.8-2.07 0-2.86zM5.41 20L4 18.59l7.72-7.72 1.47 1.35L5.41 20z\"/>\n",
              "  </svg>\n",
              "      </button>\n",
              "      \n",
              "  <style>\n",
              "    .colab-df-container {\n",
              "      display:flex;\n",
              "      flex-wrap:wrap;\n",
              "      gap: 12px;\n",
              "    }\n",
              "\n",
              "    .colab-df-convert {\n",
              "      background-color: #E8F0FE;\n",
              "      border: none;\n",
              "      border-radius: 50%;\n",
              "      cursor: pointer;\n",
              "      display: none;\n",
              "      fill: #1967D2;\n",
              "      height: 32px;\n",
              "      padding: 0 0 0 0;\n",
              "      width: 32px;\n",
              "    }\n",
              "\n",
              "    .colab-df-convert:hover {\n",
              "      background-color: #E2EBFA;\n",
              "      box-shadow: 0px 1px 2px rgba(60, 64, 67, 0.3), 0px 1px 3px 1px rgba(60, 64, 67, 0.15);\n",
              "      fill: #174EA6;\n",
              "    }\n",
              "\n",
              "    [theme=dark] .colab-df-convert {\n",
              "      background-color: #3B4455;\n",
              "      fill: #D2E3FC;\n",
              "    }\n",
              "\n",
              "    [theme=dark] .colab-df-convert:hover {\n",
              "      background-color: #434B5C;\n",
              "      box-shadow: 0px 1px 3px 1px rgba(0, 0, 0, 0.15);\n",
              "      filter: drop-shadow(0px 1px 2px rgba(0, 0, 0, 0.3));\n",
              "      fill: #FFFFFF;\n",
              "    }\n",
              "  </style>\n",
              "\n",
              "      <script>\n",
              "        const buttonEl =\n",
              "          document.querySelector('#df-c00df7eb-4291-4888-925f-2761a079e2ef button.colab-df-convert');\n",
              "        buttonEl.style.display =\n",
              "          google.colab.kernel.accessAllowed ? 'block' : 'none';\n",
              "\n",
              "        async function convertToInteractive(key) {\n",
              "          const element = document.querySelector('#df-c00df7eb-4291-4888-925f-2761a079e2ef');\n",
              "          const dataTable =\n",
              "            await google.colab.kernel.invokeFunction('convertToInteractive',\n",
              "                                                     [key], {});\n",
              "          if (!dataTable) return;\n",
              "\n",
              "          const docLinkHtml = 'Like what you see? Visit the ' +\n",
              "            '<a target=\"_blank\" href=https://colab.research.google.com/notebooks/data_table.ipynb>data table notebook</a>'\n",
              "            + ' to learn more about interactive tables.';\n",
              "          element.innerHTML = '';\n",
              "          dataTable['output_type'] = 'display_data';\n",
              "          await google.colab.output.renderOutput(dataTable, element);\n",
              "          const docLink = document.createElement('div');\n",
              "          docLink.innerHTML = docLinkHtml;\n",
              "          element.appendChild(docLink);\n",
              "        }\n",
              "      </script>\n",
              "    </div>\n",
              "  </div>\n",
              "  "
            ]
          },
          "metadata": {},
          "execution_count": 5
        }
      ]
    },
    {
      "cell_type": "markdown",
      "source": [
        "## **Import Cal Poly Rec Data**"
      ],
      "metadata": {
        "id": "XTaJXoQn0vUS"
      }
    },
    {
      "cell_type": "code",
      "source": [
        "url = 'https://raw.githubusercontent.com/jinburge/FinalProject/main/rec_daily.csv'\n",
        "cp_df = pd.read_csv(url)\n",
        "\n",
        "# Select columns\n",
        "cp_df = pd.DataFrame(cp_df)\n",
        "\n",
        "cp_df.head()"
      ],
      "metadata": {
        "colab": {
          "base_uri": "https://localhost:8080/",
          "height": 206
        },
        "id": "e0G8IJDL0ztC",
        "outputId": "5e851a26-3bc5-460d-a469-7295fe4e5ed4"
      },
      "execution_count": null,
      "outputs": [
        {
          "output_type": "execute_result",
          "data": {
            "text/plain": [
              "      Date  Entrances\n",
              "0  9/12/22       2066\n",
              "1  9/13/22       2410\n",
              "2  9/14/22       3047\n",
              "3  9/15/22       2656\n",
              "4  9/16/22       3217"
            ],
            "text/html": [
              "\n",
              "  <div id=\"df-299724db-c63d-4179-8346-d093200e6d74\">\n",
              "    <div class=\"colab-df-container\">\n",
              "      <div>\n",
              "<style scoped>\n",
              "    .dataframe tbody tr th:only-of-type {\n",
              "        vertical-align: middle;\n",
              "    }\n",
              "\n",
              "    .dataframe tbody tr th {\n",
              "        vertical-align: top;\n",
              "    }\n",
              "\n",
              "    .dataframe thead th {\n",
              "        text-align: right;\n",
              "    }\n",
              "</style>\n",
              "<table border=\"1\" class=\"dataframe\">\n",
              "  <thead>\n",
              "    <tr style=\"text-align: right;\">\n",
              "      <th></th>\n",
              "      <th>Date</th>\n",
              "      <th>Entrances</th>\n",
              "    </tr>\n",
              "  </thead>\n",
              "  <tbody>\n",
              "    <tr>\n",
              "      <th>0</th>\n",
              "      <td>9/12/22</td>\n",
              "      <td>2066</td>\n",
              "    </tr>\n",
              "    <tr>\n",
              "      <th>1</th>\n",
              "      <td>9/13/22</td>\n",
              "      <td>2410</td>\n",
              "    </tr>\n",
              "    <tr>\n",
              "      <th>2</th>\n",
              "      <td>9/14/22</td>\n",
              "      <td>3047</td>\n",
              "    </tr>\n",
              "    <tr>\n",
              "      <th>3</th>\n",
              "      <td>9/15/22</td>\n",
              "      <td>2656</td>\n",
              "    </tr>\n",
              "    <tr>\n",
              "      <th>4</th>\n",
              "      <td>9/16/22</td>\n",
              "      <td>3217</td>\n",
              "    </tr>\n",
              "  </tbody>\n",
              "</table>\n",
              "</div>\n",
              "      <button class=\"colab-df-convert\" onclick=\"convertToInteractive('df-299724db-c63d-4179-8346-d093200e6d74')\"\n",
              "              title=\"Convert this dataframe to an interactive table.\"\n",
              "              style=\"display:none;\">\n",
              "        \n",
              "  <svg xmlns=\"http://www.w3.org/2000/svg\" height=\"24px\"viewBox=\"0 0 24 24\"\n",
              "       width=\"24px\">\n",
              "    <path d=\"M0 0h24v24H0V0z\" fill=\"none\"/>\n",
              "    <path d=\"M18.56 5.44l.94 2.06.94-2.06 2.06-.94-2.06-.94-.94-2.06-.94 2.06-2.06.94zm-11 1L8.5 8.5l.94-2.06 2.06-.94-2.06-.94L8.5 2.5l-.94 2.06-2.06.94zm10 10l.94 2.06.94-2.06 2.06-.94-2.06-.94-.94-2.06-.94 2.06-2.06.94z\"/><path d=\"M17.41 7.96l-1.37-1.37c-.4-.4-.92-.59-1.43-.59-.52 0-1.04.2-1.43.59L10.3 9.45l-7.72 7.72c-.78.78-.78 2.05 0 2.83L4 21.41c.39.39.9.59 1.41.59.51 0 1.02-.2 1.41-.59l7.78-7.78 2.81-2.81c.8-.78.8-2.07 0-2.86zM5.41 20L4 18.59l7.72-7.72 1.47 1.35L5.41 20z\"/>\n",
              "  </svg>\n",
              "      </button>\n",
              "      \n",
              "  <style>\n",
              "    .colab-df-container {\n",
              "      display:flex;\n",
              "      flex-wrap:wrap;\n",
              "      gap: 12px;\n",
              "    }\n",
              "\n",
              "    .colab-df-convert {\n",
              "      background-color: #E8F0FE;\n",
              "      border: none;\n",
              "      border-radius: 50%;\n",
              "      cursor: pointer;\n",
              "      display: none;\n",
              "      fill: #1967D2;\n",
              "      height: 32px;\n",
              "      padding: 0 0 0 0;\n",
              "      width: 32px;\n",
              "    }\n",
              "\n",
              "    .colab-df-convert:hover {\n",
              "      background-color: #E2EBFA;\n",
              "      box-shadow: 0px 1px 2px rgba(60, 64, 67, 0.3), 0px 1px 3px 1px rgba(60, 64, 67, 0.15);\n",
              "      fill: #174EA6;\n",
              "    }\n",
              "\n",
              "    [theme=dark] .colab-df-convert {\n",
              "      background-color: #3B4455;\n",
              "      fill: #D2E3FC;\n",
              "    }\n",
              "\n",
              "    [theme=dark] .colab-df-convert:hover {\n",
              "      background-color: #434B5C;\n",
              "      box-shadow: 0px 1px 3px 1px rgba(0, 0, 0, 0.15);\n",
              "      filter: drop-shadow(0px 1px 2px rgba(0, 0, 0, 0.3));\n",
              "      fill: #FFFFFF;\n",
              "    }\n",
              "  </style>\n",
              "\n",
              "      <script>\n",
              "        const buttonEl =\n",
              "          document.querySelector('#df-299724db-c63d-4179-8346-d093200e6d74 button.colab-df-convert');\n",
              "        buttonEl.style.display =\n",
              "          google.colab.kernel.accessAllowed ? 'block' : 'none';\n",
              "\n",
              "        async function convertToInteractive(key) {\n",
              "          const element = document.querySelector('#df-299724db-c63d-4179-8346-d093200e6d74');\n",
              "          const dataTable =\n",
              "            await google.colab.kernel.invokeFunction('convertToInteractive',\n",
              "                                                     [key], {});\n",
              "          if (!dataTable) return;\n",
              "\n",
              "          const docLinkHtml = 'Like what you see? Visit the ' +\n",
              "            '<a target=\"_blank\" href=https://colab.research.google.com/notebooks/data_table.ipynb>data table notebook</a>'\n",
              "            + ' to learn more about interactive tables.';\n",
              "          element.innerHTML = '';\n",
              "          dataTable['output_type'] = 'display_data';\n",
              "          await google.colab.output.renderOutput(dataTable, element);\n",
              "          const docLink = document.createElement('div');\n",
              "          docLink.innerHTML = docLinkHtml;\n",
              "          element.appendChild(docLink);\n",
              "        }\n",
              "      </script>\n",
              "    </div>\n",
              "  </div>\n",
              "  "
            ]
          },
          "metadata": {},
          "execution_count": 6
        }
      ]
    },
    {
      "cell_type": "markdown",
      "source": [
        "### **Merge Datasets**"
      ],
      "metadata": {
        "id": "H9FLX85NLSn_"
      }
    },
    {
      "cell_type": "code",
      "source": [
        "merged_df = pd.merge(weather_df2, cp_df, left_on='time', right_on='Date')"
      ],
      "metadata": {
        "id": "CzDzT0oZ2dhL"
      },
      "execution_count": null,
      "outputs": []
    },
    {
      "cell_type": "markdown",
      "source": [
        "**Dataset for All the Data**"
      ],
      "metadata": {
        "id": "giTbWZX6jilH"
      }
    },
    {
      "cell_type": "code",
      "source": [
        "## Cleaning Merged Dataset\n",
        "# Drop columns\n",
        "merged_df = merged_df.drop(columns = [\"time\", \"tavg\"])\n",
        "\n",
        "# Change column order\n",
        "merged_df = merged_df[[\"Date\", \"Average Temperature (F)\", \"Entrances\"]]\n",
        "\n",
        "# Final Dataset with Outliers\n",
        "merged_df.head()"
      ],
      "metadata": {
        "colab": {
          "base_uri": "https://localhost:8080/",
          "height": 206
        },
        "id": "Y2ykZe475aI5",
        "outputId": "f6c9dd97-fe87-4547-c8a6-914d6123b553"
      },
      "execution_count": null,
      "outputs": [
        {
          "output_type": "execute_result",
          "data": {
            "text/plain": [
              "      Date  Average Temperature (F)  Entrances\n",
              "0  9/12/22                    69.44       2066\n",
              "1  9/13/22                    66.20       2410\n",
              "2  9/14/22                    65.12       3047\n",
              "3  9/15/22                    64.58       2656\n",
              "4  9/16/22                    64.40       3217"
            ],
            "text/html": [
              "\n",
              "  <div id=\"df-55fcfaf3-d3ee-4ad4-bcde-b7af7b0fccfb\">\n",
              "    <div class=\"colab-df-container\">\n",
              "      <div>\n",
              "<style scoped>\n",
              "    .dataframe tbody tr th:only-of-type {\n",
              "        vertical-align: middle;\n",
              "    }\n",
              "\n",
              "    .dataframe tbody tr th {\n",
              "        vertical-align: top;\n",
              "    }\n",
              "\n",
              "    .dataframe thead th {\n",
              "        text-align: right;\n",
              "    }\n",
              "</style>\n",
              "<table border=\"1\" class=\"dataframe\">\n",
              "  <thead>\n",
              "    <tr style=\"text-align: right;\">\n",
              "      <th></th>\n",
              "      <th>Date</th>\n",
              "      <th>Average Temperature (F)</th>\n",
              "      <th>Entrances</th>\n",
              "    </tr>\n",
              "  </thead>\n",
              "  <tbody>\n",
              "    <tr>\n",
              "      <th>0</th>\n",
              "      <td>9/12/22</td>\n",
              "      <td>69.44</td>\n",
              "      <td>2066</td>\n",
              "    </tr>\n",
              "    <tr>\n",
              "      <th>1</th>\n",
              "      <td>9/13/22</td>\n",
              "      <td>66.20</td>\n",
              "      <td>2410</td>\n",
              "    </tr>\n",
              "    <tr>\n",
              "      <th>2</th>\n",
              "      <td>9/14/22</td>\n",
              "      <td>65.12</td>\n",
              "      <td>3047</td>\n",
              "    </tr>\n",
              "    <tr>\n",
              "      <th>3</th>\n",
              "      <td>9/15/22</td>\n",
              "      <td>64.58</td>\n",
              "      <td>2656</td>\n",
              "    </tr>\n",
              "    <tr>\n",
              "      <th>4</th>\n",
              "      <td>9/16/22</td>\n",
              "      <td>64.40</td>\n",
              "      <td>3217</td>\n",
              "    </tr>\n",
              "  </tbody>\n",
              "</table>\n",
              "</div>\n",
              "      <button class=\"colab-df-convert\" onclick=\"convertToInteractive('df-55fcfaf3-d3ee-4ad4-bcde-b7af7b0fccfb')\"\n",
              "              title=\"Convert this dataframe to an interactive table.\"\n",
              "              style=\"display:none;\">\n",
              "        \n",
              "  <svg xmlns=\"http://www.w3.org/2000/svg\" height=\"24px\"viewBox=\"0 0 24 24\"\n",
              "       width=\"24px\">\n",
              "    <path d=\"M0 0h24v24H0V0z\" fill=\"none\"/>\n",
              "    <path d=\"M18.56 5.44l.94 2.06.94-2.06 2.06-.94-2.06-.94-.94-2.06-.94 2.06-2.06.94zm-11 1L8.5 8.5l.94-2.06 2.06-.94-2.06-.94L8.5 2.5l-.94 2.06-2.06.94zm10 10l.94 2.06.94-2.06 2.06-.94-2.06-.94-.94-2.06-.94 2.06-2.06.94z\"/><path d=\"M17.41 7.96l-1.37-1.37c-.4-.4-.92-.59-1.43-.59-.52 0-1.04.2-1.43.59L10.3 9.45l-7.72 7.72c-.78.78-.78 2.05 0 2.83L4 21.41c.39.39.9.59 1.41.59.51 0 1.02-.2 1.41-.59l7.78-7.78 2.81-2.81c.8-.78.8-2.07 0-2.86zM5.41 20L4 18.59l7.72-7.72 1.47 1.35L5.41 20z\"/>\n",
              "  </svg>\n",
              "      </button>\n",
              "      \n",
              "  <style>\n",
              "    .colab-df-container {\n",
              "      display:flex;\n",
              "      flex-wrap:wrap;\n",
              "      gap: 12px;\n",
              "    }\n",
              "\n",
              "    .colab-df-convert {\n",
              "      background-color: #E8F0FE;\n",
              "      border: none;\n",
              "      border-radius: 50%;\n",
              "      cursor: pointer;\n",
              "      display: none;\n",
              "      fill: #1967D2;\n",
              "      height: 32px;\n",
              "      padding: 0 0 0 0;\n",
              "      width: 32px;\n",
              "    }\n",
              "\n",
              "    .colab-df-convert:hover {\n",
              "      background-color: #E2EBFA;\n",
              "      box-shadow: 0px 1px 2px rgba(60, 64, 67, 0.3), 0px 1px 3px 1px rgba(60, 64, 67, 0.15);\n",
              "      fill: #174EA6;\n",
              "    }\n",
              "\n",
              "    [theme=dark] .colab-df-convert {\n",
              "      background-color: #3B4455;\n",
              "      fill: #D2E3FC;\n",
              "    }\n",
              "\n",
              "    [theme=dark] .colab-df-convert:hover {\n",
              "      background-color: #434B5C;\n",
              "      box-shadow: 0px 1px 3px 1px rgba(0, 0, 0, 0.15);\n",
              "      filter: drop-shadow(0px 1px 2px rgba(0, 0, 0, 0.3));\n",
              "      fill: #FFFFFF;\n",
              "    }\n",
              "  </style>\n",
              "\n",
              "      <script>\n",
              "        const buttonEl =\n",
              "          document.querySelector('#df-55fcfaf3-d3ee-4ad4-bcde-b7af7b0fccfb button.colab-df-convert');\n",
              "        buttonEl.style.display =\n",
              "          google.colab.kernel.accessAllowed ? 'block' : 'none';\n",
              "\n",
              "        async function convertToInteractive(key) {\n",
              "          const element = document.querySelector('#df-55fcfaf3-d3ee-4ad4-bcde-b7af7b0fccfb');\n",
              "          const dataTable =\n",
              "            await google.colab.kernel.invokeFunction('convertToInteractive',\n",
              "                                                     [key], {});\n",
              "          if (!dataTable) return;\n",
              "\n",
              "          const docLinkHtml = 'Like what you see? Visit the ' +\n",
              "            '<a target=\"_blank\" href=https://colab.research.google.com/notebooks/data_table.ipynb>data table notebook</a>'\n",
              "            + ' to learn more about interactive tables.';\n",
              "          element.innerHTML = '';\n",
              "          dataTable['output_type'] = 'display_data';\n",
              "          await google.colab.output.renderOutput(dataTable, element);\n",
              "          const docLink = document.createElement('div');\n",
              "          docLink.innerHTML = docLinkHtml;\n",
              "          element.appendChild(docLink);\n",
              "        }\n",
              "      </script>\n",
              "    </div>\n",
              "  </div>\n",
              "  "
            ]
          },
          "metadata": {},
          "execution_count": 8
        }
      ]
    },
    {
      "cell_type": "markdown",
      "source": [
        "**Dataset Accounting for Holidays**"
      ],
      "metadata": {
        "id": "hFxJsglhjsvi"
      }
    },
    {
      "cell_type": "code",
      "source": [
        "# Remove Outliers (Holidays, Breaks)\n",
        "merged_df2 = merged_df\n",
        "\n",
        "# Thanksgiving 11/21-11/27\n",
        "merged_df2 = merged_df.drop(merged_df.index[70:76])\n",
        "\n",
        "# Winter 12/10-1/8\n",
        "merged_df2 = merged_df.drop(merged_df.index[89:118])\n",
        "\n",
        "# Drop values when rec was closed\n",
        "merged_df2 = merged_df2.drop(merged_df2[merged_df2.Entrances == 0].index)\n",
        "\n",
        "# Final Dataset Without Outliers\n",
        "merged_df2\n"
      ],
      "metadata": {
        "colab": {
          "base_uri": "https://localhost:8080/",
          "height": 424
        },
        "id": "1xAkIxL6jbie",
        "outputId": "09c55f5b-7c20-44a1-c6e5-7fc8387f9bf7"
      },
      "execution_count": null,
      "outputs": [
        {
          "output_type": "execute_result",
          "data": {
            "text/plain": [
              "        Date  Average Temperature (F)  Entrances\n",
              "0    9/12/22                    69.44       2066\n",
              "1    9/13/22                    66.20       2410\n",
              "2    9/14/22                    65.12       3047\n",
              "3    9/15/22                    64.58       2656\n",
              "4    9/16/22                    64.40       3217\n",
              "..       ...                      ...        ...\n",
              "157  2/16/23                    45.14       4630\n",
              "158  2/17/23                    48.02       3350\n",
              "159  2/18/23                    51.98       2035\n",
              "160  2/19/23                    53.60       2158\n",
              "161  2/20/23                    53.78       3388\n",
              "\n",
              "[131 rows x 3 columns]"
            ],
            "text/html": [
              "\n",
              "  <div id=\"df-b9c64ce1-3db4-46f3-a24c-362bdf41040b\">\n",
              "    <div class=\"colab-df-container\">\n",
              "      <div>\n",
              "<style scoped>\n",
              "    .dataframe tbody tr th:only-of-type {\n",
              "        vertical-align: middle;\n",
              "    }\n",
              "\n",
              "    .dataframe tbody tr th {\n",
              "        vertical-align: top;\n",
              "    }\n",
              "\n",
              "    .dataframe thead th {\n",
              "        text-align: right;\n",
              "    }\n",
              "</style>\n",
              "<table border=\"1\" class=\"dataframe\">\n",
              "  <thead>\n",
              "    <tr style=\"text-align: right;\">\n",
              "      <th></th>\n",
              "      <th>Date</th>\n",
              "      <th>Average Temperature (F)</th>\n",
              "      <th>Entrances</th>\n",
              "    </tr>\n",
              "  </thead>\n",
              "  <tbody>\n",
              "    <tr>\n",
              "      <th>0</th>\n",
              "      <td>9/12/22</td>\n",
              "      <td>69.44</td>\n",
              "      <td>2066</td>\n",
              "    </tr>\n",
              "    <tr>\n",
              "      <th>1</th>\n",
              "      <td>9/13/22</td>\n",
              "      <td>66.20</td>\n",
              "      <td>2410</td>\n",
              "    </tr>\n",
              "    <tr>\n",
              "      <th>2</th>\n",
              "      <td>9/14/22</td>\n",
              "      <td>65.12</td>\n",
              "      <td>3047</td>\n",
              "    </tr>\n",
              "    <tr>\n",
              "      <th>3</th>\n",
              "      <td>9/15/22</td>\n",
              "      <td>64.58</td>\n",
              "      <td>2656</td>\n",
              "    </tr>\n",
              "    <tr>\n",
              "      <th>4</th>\n",
              "      <td>9/16/22</td>\n",
              "      <td>64.40</td>\n",
              "      <td>3217</td>\n",
              "    </tr>\n",
              "    <tr>\n",
              "      <th>...</th>\n",
              "      <td>...</td>\n",
              "      <td>...</td>\n",
              "      <td>...</td>\n",
              "    </tr>\n",
              "    <tr>\n",
              "      <th>157</th>\n",
              "      <td>2/16/23</td>\n",
              "      <td>45.14</td>\n",
              "      <td>4630</td>\n",
              "    </tr>\n",
              "    <tr>\n",
              "      <th>158</th>\n",
              "      <td>2/17/23</td>\n",
              "      <td>48.02</td>\n",
              "      <td>3350</td>\n",
              "    </tr>\n",
              "    <tr>\n",
              "      <th>159</th>\n",
              "      <td>2/18/23</td>\n",
              "      <td>51.98</td>\n",
              "      <td>2035</td>\n",
              "    </tr>\n",
              "    <tr>\n",
              "      <th>160</th>\n",
              "      <td>2/19/23</td>\n",
              "      <td>53.60</td>\n",
              "      <td>2158</td>\n",
              "    </tr>\n",
              "    <tr>\n",
              "      <th>161</th>\n",
              "      <td>2/20/23</td>\n",
              "      <td>53.78</td>\n",
              "      <td>3388</td>\n",
              "    </tr>\n",
              "  </tbody>\n",
              "</table>\n",
              "<p>131 rows × 3 columns</p>\n",
              "</div>\n",
              "      <button class=\"colab-df-convert\" onclick=\"convertToInteractive('df-b9c64ce1-3db4-46f3-a24c-362bdf41040b')\"\n",
              "              title=\"Convert this dataframe to an interactive table.\"\n",
              "              style=\"display:none;\">\n",
              "        \n",
              "  <svg xmlns=\"http://www.w3.org/2000/svg\" height=\"24px\"viewBox=\"0 0 24 24\"\n",
              "       width=\"24px\">\n",
              "    <path d=\"M0 0h24v24H0V0z\" fill=\"none\"/>\n",
              "    <path d=\"M18.56 5.44l.94 2.06.94-2.06 2.06-.94-2.06-.94-.94-2.06-.94 2.06-2.06.94zm-11 1L8.5 8.5l.94-2.06 2.06-.94-2.06-.94L8.5 2.5l-.94 2.06-2.06.94zm10 10l.94 2.06.94-2.06 2.06-.94-2.06-.94-.94-2.06-.94 2.06-2.06.94z\"/><path d=\"M17.41 7.96l-1.37-1.37c-.4-.4-.92-.59-1.43-.59-.52 0-1.04.2-1.43.59L10.3 9.45l-7.72 7.72c-.78.78-.78 2.05 0 2.83L4 21.41c.39.39.9.59 1.41.59.51 0 1.02-.2 1.41-.59l7.78-7.78 2.81-2.81c.8-.78.8-2.07 0-2.86zM5.41 20L4 18.59l7.72-7.72 1.47 1.35L5.41 20z\"/>\n",
              "  </svg>\n",
              "      </button>\n",
              "      \n",
              "  <style>\n",
              "    .colab-df-container {\n",
              "      display:flex;\n",
              "      flex-wrap:wrap;\n",
              "      gap: 12px;\n",
              "    }\n",
              "\n",
              "    .colab-df-convert {\n",
              "      background-color: #E8F0FE;\n",
              "      border: none;\n",
              "      border-radius: 50%;\n",
              "      cursor: pointer;\n",
              "      display: none;\n",
              "      fill: #1967D2;\n",
              "      height: 32px;\n",
              "      padding: 0 0 0 0;\n",
              "      width: 32px;\n",
              "    }\n",
              "\n",
              "    .colab-df-convert:hover {\n",
              "      background-color: #E2EBFA;\n",
              "      box-shadow: 0px 1px 2px rgba(60, 64, 67, 0.3), 0px 1px 3px 1px rgba(60, 64, 67, 0.15);\n",
              "      fill: #174EA6;\n",
              "    }\n",
              "\n",
              "    [theme=dark] .colab-df-convert {\n",
              "      background-color: #3B4455;\n",
              "      fill: #D2E3FC;\n",
              "    }\n",
              "\n",
              "    [theme=dark] .colab-df-convert:hover {\n",
              "      background-color: #434B5C;\n",
              "      box-shadow: 0px 1px 3px 1px rgba(0, 0, 0, 0.15);\n",
              "      filter: drop-shadow(0px 1px 2px rgba(0, 0, 0, 0.3));\n",
              "      fill: #FFFFFF;\n",
              "    }\n",
              "  </style>\n",
              "\n",
              "      <script>\n",
              "        const buttonEl =\n",
              "          document.querySelector('#df-b9c64ce1-3db4-46f3-a24c-362bdf41040b button.colab-df-convert');\n",
              "        buttonEl.style.display =\n",
              "          google.colab.kernel.accessAllowed ? 'block' : 'none';\n",
              "\n",
              "        async function convertToInteractive(key) {\n",
              "          const element = document.querySelector('#df-b9c64ce1-3db4-46f3-a24c-362bdf41040b');\n",
              "          const dataTable =\n",
              "            await google.colab.kernel.invokeFunction('convertToInteractive',\n",
              "                                                     [key], {});\n",
              "          if (!dataTable) return;\n",
              "\n",
              "          const docLinkHtml = 'Like what you see? Visit the ' +\n",
              "            '<a target=\"_blank\" href=https://colab.research.google.com/notebooks/data_table.ipynb>data table notebook</a>'\n",
              "            + ' to learn more about interactive tables.';\n",
              "          element.innerHTML = '';\n",
              "          dataTable['output_type'] = 'display_data';\n",
              "          await google.colab.output.renderOutput(dataTable, element);\n",
              "          const docLink = document.createElement('div');\n",
              "          docLink.innerHTML = docLinkHtml;\n",
              "          element.appendChild(docLink);\n",
              "        }\n",
              "      </script>\n",
              "    </div>\n",
              "  </div>\n",
              "  "
            ]
          },
          "metadata": {},
          "execution_count": 9
        }
      ]
    },
    {
      "cell_type": "markdown",
      "source": [
        "**Dataset without Holidays and Weekends**"
      ],
      "metadata": {
        "id": "UPMjHSQQMOJU"
      }
    },
    {
      "cell_type": "code",
      "source": [
        "# Removing Weekends\n",
        "isBusinessDay = BDay().onOffset\n",
        "match_series = pd.to_datetime(merged_df2['Date']).map(isBusinessDay)\n",
        "merged_df3 = merged_df2[match_series]\n",
        "\n",
        "merged_df3"
      ],
      "metadata": {
        "colab": {
          "base_uri": "https://localhost:8080/",
          "height": 424
        },
        "id": "OHpYajHuKyGl",
        "outputId": "baedbdb0-5bf4-4e24-e63f-796c0f45c33e"
      },
      "execution_count": null,
      "outputs": [
        {
          "output_type": "execute_result",
          "data": {
            "text/plain": [
              "        Date  Average Temperature (F)  Entrances\n",
              "0    9/12/22                    69.44       2066\n",
              "1    9/13/22                    66.20       2410\n",
              "2    9/14/22                    65.12       3047\n",
              "3    9/15/22                    64.58       2656\n",
              "4    9/16/22                    64.40       3217\n",
              "..       ...                      ...        ...\n",
              "155  2/14/23                    50.00       5152\n",
              "156  2/15/23                    47.12       5007\n",
              "157  2/16/23                    45.14       4630\n",
              "158  2/17/23                    48.02       3350\n",
              "161  2/20/23                    53.78       3388\n",
              "\n",
              "[94 rows x 3 columns]"
            ],
            "text/html": [
              "\n",
              "  <div id=\"df-77de0495-8fbb-47d7-a2d9-5dcc03a17a1c\">\n",
              "    <div class=\"colab-df-container\">\n",
              "      <div>\n",
              "<style scoped>\n",
              "    .dataframe tbody tr th:only-of-type {\n",
              "        vertical-align: middle;\n",
              "    }\n",
              "\n",
              "    .dataframe tbody tr th {\n",
              "        vertical-align: top;\n",
              "    }\n",
              "\n",
              "    .dataframe thead th {\n",
              "        text-align: right;\n",
              "    }\n",
              "</style>\n",
              "<table border=\"1\" class=\"dataframe\">\n",
              "  <thead>\n",
              "    <tr style=\"text-align: right;\">\n",
              "      <th></th>\n",
              "      <th>Date</th>\n",
              "      <th>Average Temperature (F)</th>\n",
              "      <th>Entrances</th>\n",
              "    </tr>\n",
              "  </thead>\n",
              "  <tbody>\n",
              "    <tr>\n",
              "      <th>0</th>\n",
              "      <td>9/12/22</td>\n",
              "      <td>69.44</td>\n",
              "      <td>2066</td>\n",
              "    </tr>\n",
              "    <tr>\n",
              "      <th>1</th>\n",
              "      <td>9/13/22</td>\n",
              "      <td>66.20</td>\n",
              "      <td>2410</td>\n",
              "    </tr>\n",
              "    <tr>\n",
              "      <th>2</th>\n",
              "      <td>9/14/22</td>\n",
              "      <td>65.12</td>\n",
              "      <td>3047</td>\n",
              "    </tr>\n",
              "    <tr>\n",
              "      <th>3</th>\n",
              "      <td>9/15/22</td>\n",
              "      <td>64.58</td>\n",
              "      <td>2656</td>\n",
              "    </tr>\n",
              "    <tr>\n",
              "      <th>4</th>\n",
              "      <td>9/16/22</td>\n",
              "      <td>64.40</td>\n",
              "      <td>3217</td>\n",
              "    </tr>\n",
              "    <tr>\n",
              "      <th>...</th>\n",
              "      <td>...</td>\n",
              "      <td>...</td>\n",
              "      <td>...</td>\n",
              "    </tr>\n",
              "    <tr>\n",
              "      <th>155</th>\n",
              "      <td>2/14/23</td>\n",
              "      <td>50.00</td>\n",
              "      <td>5152</td>\n",
              "    </tr>\n",
              "    <tr>\n",
              "      <th>156</th>\n",
              "      <td>2/15/23</td>\n",
              "      <td>47.12</td>\n",
              "      <td>5007</td>\n",
              "    </tr>\n",
              "    <tr>\n",
              "      <th>157</th>\n",
              "      <td>2/16/23</td>\n",
              "      <td>45.14</td>\n",
              "      <td>4630</td>\n",
              "    </tr>\n",
              "    <tr>\n",
              "      <th>158</th>\n",
              "      <td>2/17/23</td>\n",
              "      <td>48.02</td>\n",
              "      <td>3350</td>\n",
              "    </tr>\n",
              "    <tr>\n",
              "      <th>161</th>\n",
              "      <td>2/20/23</td>\n",
              "      <td>53.78</td>\n",
              "      <td>3388</td>\n",
              "    </tr>\n",
              "  </tbody>\n",
              "</table>\n",
              "<p>94 rows × 3 columns</p>\n",
              "</div>\n",
              "      <button class=\"colab-df-convert\" onclick=\"convertToInteractive('df-77de0495-8fbb-47d7-a2d9-5dcc03a17a1c')\"\n",
              "              title=\"Convert this dataframe to an interactive table.\"\n",
              "              style=\"display:none;\">\n",
              "        \n",
              "  <svg xmlns=\"http://www.w3.org/2000/svg\" height=\"24px\"viewBox=\"0 0 24 24\"\n",
              "       width=\"24px\">\n",
              "    <path d=\"M0 0h24v24H0V0z\" fill=\"none\"/>\n",
              "    <path d=\"M18.56 5.44l.94 2.06.94-2.06 2.06-.94-2.06-.94-.94-2.06-.94 2.06-2.06.94zm-11 1L8.5 8.5l.94-2.06 2.06-.94-2.06-.94L8.5 2.5l-.94 2.06-2.06.94zm10 10l.94 2.06.94-2.06 2.06-.94-2.06-.94-.94-2.06-.94 2.06-2.06.94z\"/><path d=\"M17.41 7.96l-1.37-1.37c-.4-.4-.92-.59-1.43-.59-.52 0-1.04.2-1.43.59L10.3 9.45l-7.72 7.72c-.78.78-.78 2.05 0 2.83L4 21.41c.39.39.9.59 1.41.59.51 0 1.02-.2 1.41-.59l7.78-7.78 2.81-2.81c.8-.78.8-2.07 0-2.86zM5.41 20L4 18.59l7.72-7.72 1.47 1.35L5.41 20z\"/>\n",
              "  </svg>\n",
              "      </button>\n",
              "      \n",
              "  <style>\n",
              "    .colab-df-container {\n",
              "      display:flex;\n",
              "      flex-wrap:wrap;\n",
              "      gap: 12px;\n",
              "    }\n",
              "\n",
              "    .colab-df-convert {\n",
              "      background-color: #E8F0FE;\n",
              "      border: none;\n",
              "      border-radius: 50%;\n",
              "      cursor: pointer;\n",
              "      display: none;\n",
              "      fill: #1967D2;\n",
              "      height: 32px;\n",
              "      padding: 0 0 0 0;\n",
              "      width: 32px;\n",
              "    }\n",
              "\n",
              "    .colab-df-convert:hover {\n",
              "      background-color: #E2EBFA;\n",
              "      box-shadow: 0px 1px 2px rgba(60, 64, 67, 0.3), 0px 1px 3px 1px rgba(60, 64, 67, 0.15);\n",
              "      fill: #174EA6;\n",
              "    }\n",
              "\n",
              "    [theme=dark] .colab-df-convert {\n",
              "      background-color: #3B4455;\n",
              "      fill: #D2E3FC;\n",
              "    }\n",
              "\n",
              "    [theme=dark] .colab-df-convert:hover {\n",
              "      background-color: #434B5C;\n",
              "      box-shadow: 0px 1px 3px 1px rgba(0, 0, 0, 0.15);\n",
              "      filter: drop-shadow(0px 1px 2px rgba(0, 0, 0, 0.3));\n",
              "      fill: #FFFFFF;\n",
              "    }\n",
              "  </style>\n",
              "\n",
              "      <script>\n",
              "        const buttonEl =\n",
              "          document.querySelector('#df-77de0495-8fbb-47d7-a2d9-5dcc03a17a1c button.colab-df-convert');\n",
              "        buttonEl.style.display =\n",
              "          google.colab.kernel.accessAllowed ? 'block' : 'none';\n",
              "\n",
              "        async function convertToInteractive(key) {\n",
              "          const element = document.querySelector('#df-77de0495-8fbb-47d7-a2d9-5dcc03a17a1c');\n",
              "          const dataTable =\n",
              "            await google.colab.kernel.invokeFunction('convertToInteractive',\n",
              "                                                     [key], {});\n",
              "          if (!dataTable) return;\n",
              "\n",
              "          const docLinkHtml = 'Like what you see? Visit the ' +\n",
              "            '<a target=\"_blank\" href=https://colab.research.google.com/notebooks/data_table.ipynb>data table notebook</a>'\n",
              "            + ' to learn more about interactive tables.';\n",
              "          element.innerHTML = '';\n",
              "          dataTable['output_type'] = 'display_data';\n",
              "          await google.colab.output.renderOutput(dataTable, element);\n",
              "          const docLink = document.createElement('div');\n",
              "          docLink.innerHTML = docLinkHtml;\n",
              "          element.appendChild(docLink);\n",
              "        }\n",
              "      </script>\n",
              "    </div>\n",
              "  </div>\n",
              "  "
            ]
          },
          "metadata": {},
          "execution_count": 10
        }
      ]
    },
    {
      "cell_type": "markdown",
      "source": [
        "For our analysis, we created three final datasets. The first dataset includes all the data, 163 days worth of observations. The second dataset, 131 days of observations, removes the holidays and breaks (Thanksgiving and Winter break), in addition to the days that the recreation center was closed. The third dataset, 94 days of observations, also removes weekends (in addition to the breaks and closed days that were removed in the second dataset). "
      ],
      "metadata": {
        "id": "G2909pDJUAZL"
      }
    },
    {
      "cell_type": "markdown",
      "source": [
        "## **Visualizations**"
      ],
      "metadata": {
        "id": "_cYfcesn6trs"
      }
    },
    {
      "cell_type": "code",
      "source": [
        "fig, ax = plt.subplots(figsize=(12, 8))\n",
        "\n",
        "merged_df.plot(x = 'Date', y = 'Average Temperature (F)', ax = ax) \n",
        "merged_df.plot(x = 'Date', y = 'Entrances', ax = ax, secondary_y = True) \n",
        "plt.title(\"Average Temperature and Entrances Over Time\", fontsize = 'x-large', fontweight = 'bold')\n",
        "ax.set_ylabel('Average Temperature (F)')\n",
        "ax.right_ax.set_ylabel('Entrances')"
      ],
      "metadata": {
        "colab": {
          "base_uri": "https://localhost:8080/",
          "height": 532
        },
        "id": "84_28k_lELYv",
        "outputId": "e6d3851b-b86d-44a9-bb35-4b1423f21e12"
      },
      "execution_count": null,
      "outputs": [
        {
          "output_type": "execute_result",
          "data": {
            "text/plain": [
              "Text(0, 0.5, 'Entrances')"
            ]
          },
          "metadata": {},
          "execution_count": 11
        },
        {
          "output_type": "display_data",
          "data": {
            "text/plain": [
              "<Figure size 864x576 with 2 Axes>"
            ],
            "image/png": "[encoded data removed]"
          },
          "metadata": {
            "needs_background": "light"
          }
        }
      ]
    },
    {
      "cell_type": "markdown",
      "source": [
        "First, we created a time series plot with the average temperature in blue and the number of individuals who entered the Cal Poly Rec Center in orange. This graph shows no obvious trend, the peaks are mostly on Mondays and non peaks are mostly on the weekends. The trends for the entrances are pretty much the same on a weekly basis and it springs back up after the holidays, more specifically, after the New Years. However, we can see that the average temperature doesn’t seem to affect the number of entrances, so there is essentially no correlation between the average temperature and the number of individuals who entered the Cal Poly Rec Center. "
      ],
      "metadata": {
        "id": "_8M_PLI62I4B"
      }
    },
    {
      "cell_type": "markdown",
      "source": [
        "### **Scatterplots**"
      ],
      "metadata": {
        "id": "Bn0rMZjLj4dP"
      }
    },
    {
      "cell_type": "markdown",
      "source": [
        "**Average Temperature vs Entrance for All the Data**"
      ],
      "metadata": {
        "id": "LR0kldzMkNUz"
      }
    },
    {
      "cell_type": "code",
      "source": [
        "# with outliers\n",
        "fig, ax = plt.subplots(figsize=(12, 8))\n",
        "ax1 = merged_df.plot.scatter(x='Entrances', y='Average Temperature (F)', c='Blue', ax = ax)\n",
        "plt.title(\"Average Temperature vs Entrances (All Data)\", fontsize = 'x-large', fontweight = 'bold' )\n",
        "plt.subplots_adjust(top = 0.90)\n",
        "plt.show()"
      ],
      "metadata": {
        "id": "AzofgaDh9Jwe",
        "colab": {
          "base_uri": "https://localhost:8080/",
          "height": 525
        },
        "outputId": "bcec293b-8617-44f4-f33b-3bb5b4e6a6dc"
      },
      "execution_count": null,
      "outputs": [
        {
          "output_type": "display_data",
          "data": {
            "text/plain": [
              "<Figure size 864x576 with 1 Axes>"
            ],
            "image/png": "[encoded data removed]"
          },
          "metadata": {
            "needs_background": "light"
          }
        }
      ]
    },
    {
      "cell_type": "markdown",
      "source": [
        "**Average Temperature vs Entrance Accounting for Holidays**"
      ],
      "metadata": {
        "id": "p3gA22KKkTHs"
      }
    },
    {
      "cell_type": "code",
      "source": [
        "# without outliers\n",
        "fig, ax = plt.subplots(figsize=(12, 8))\n",
        "ax1 = merged_df2.plot.scatter(x='Entrances', y='Average Temperature (F)', c='Blue', ax = ax)\n",
        "plt.title(\"Average Temperature vs Entrances (Accounting for Holidays)\", fontsize = 'x-large', fontweight = 'bold' )\n",
        "plt.subplots_adjust(top = 0.90)\n",
        "plt.show()"
      ],
      "metadata": {
        "colab": {
          "base_uri": "https://localhost:8080/",
          "height": 525
        },
        "id": "g24i2OTVVehZ",
        "outputId": "40ecaf57-1887-4d45-c012-3d8566c1cbb8"
      },
      "execution_count": null,
      "outputs": [
        {
          "output_type": "display_data",
          "data": {
            "text/plain": [
              "<Figure size 864x576 with 1 Axes>"
            ],
            "image/png": "[encoded data removed]"
          },
          "metadata": {
            "needs_background": "light"
          }
        }
      ]
    },
    {
      "cell_type": "markdown",
      "source": [
        "**Average Temperature vs Entrance Accounting for Holidays and Weekends**"
      ],
      "metadata": {
        "id": "iHrQ_XAAMhxB"
      }
    },
    {
      "cell_type": "code",
      "source": [
        "fig, ax = plt.subplots(figsize=(12, 8))\n",
        "ax1 = merged_df3.plot.scatter(x='Entrances', y='Average Temperature (F)', c='Blue', ax = ax)\n",
        "plt.title(\"Average Temperature vs Entrances (Accounting for Holidays and Weekends)\", fontsize = 'x-large', fontweight = 'bold' )\n",
        "plt.subplots_adjust(top = 0.90)\n",
        "plt.show()"
      ],
      "metadata": {
        "colab": {
          "base_uri": "https://localhost:8080/",
          "height": 525
        },
        "id": "C9EkEiwhMY2h",
        "outputId": "e58fdf01-1762-4325-e7dd-5445a4d426f1"
      },
      "execution_count": null,
      "outputs": [
        {
          "output_type": "display_data",
          "data": {
            "text/plain": [
              "<Figure size 864x576 with 1 Axes>"
            ],
            "image/png": "[encoded data removed]"
          },
          "metadata": {
            "needs_background": "light"
          }
        }
      ]
    },
    {
      "cell_type": "markdown",
      "source": [
        "We created three scatterplots: one with all the data, and one that accounts for the holidays, and one that accounts for holidays and weekends, to understand the relationship between the average temperature and the number of individuals who entered the Cal Poly Rec Center. These scatterplots reveal that the points are scattered randomly, indicating that there is no relationship and no correlation between the average temperature in Fahrenheit and the number of individuals who entered the Cal Poly Rec Center."
      ],
      "metadata": {
        "id": "r3jgXNTkWCtP"
      }
    },
    {
      "cell_type": "markdown",
      "source": [
        "## **Statistical Analysis**"
      ],
      "metadata": {
        "id": "_UlcfWn7AvPE"
      }
    },
    {
      "cell_type": "markdown",
      "source": [
        "To further support our analysis, we conducted a Pearson's correlation test to measure the statistical relationship and association between the average temperature in Fahrenheit and the number of individuals who entered the Cal Poly Rec Center. "
      ],
      "metadata": {
        "id": "XpVI_MzJi6qE"
      }
    },
    {
      "cell_type": "markdown",
      "source": [
        "### **Pearsons Correlation with All the Data**"
      ],
      "metadata": {
        "id": "X2PZLthr9HKY"
      }
    },
    {
      "cell_type": "code",
      "source": [
        "# Convert dataframe into series\n",
        "Entrances = merged_df['Entrances']\n",
        "Temp = merged_df['Average Temperature (F)']\n",
        " \n",
        "# Apply the pearsonr()\n",
        "corr, _ = pearsonr(Entrances, Temp)\n",
        "print('Pearsons correlation: %.3f' % corr)\n",
        " "
      ],
      "metadata": {
        "colab": {
          "base_uri": "https://localhost:8080/"
        },
        "id": "43DI-AugAwiV",
        "outputId": "7e191167-d28a-45b3-c7b2-9e18b59efddd"
      },
      "execution_count": null,
      "outputs": [
        {
          "output_type": "stream",
          "name": "stdout",
          "text": [
            "Pearsons correlation: 0.113\n"
          ]
        }
      ]
    },
    {
      "cell_type": "markdown",
      "source": [
        "First, we computed the test without removing any specific dates, resulting in a correlation value of 0.113. This indicates that there is a weak positive association between the average temperature in Fahrenheit and the number of individuals who entered the Cal Poly Rec Center.  However this value is fairly close to 0, indicating that it is barely a positive association and if anything, no correlation. However, this fails to account for academic holidays, including Thanksgiving and Winter break, and when the rec center was closed. Thus, this would not be an accurate representation since the outliers of low or zero entrance data would skew our results. "
      ],
      "metadata": {
        "id": "ku6yBmiCi-Rv"
      }
    },
    {
      "cell_type": "markdown",
      "source": [
        "### **Pearsons Correlation Accounting for Academic Holidays**"
      ],
      "metadata": {
        "id": "LR0D8idJ9LaC"
      }
    },
    {
      "cell_type": "code",
      "source": [
        "# Convert dataframe into series\n",
        "Entrances2 = merged_df2['Entrances']\n",
        "Temp2 = merged_df2['Average Temperature (F)']\n",
        " \n",
        "# Apply the pearsonr()\n",
        "corr, _ = pearsonr(Entrances2, Temp2)\n",
        "print('Pearsons correlation: %.3f' % corr)"
      ],
      "metadata": {
        "colab": {
          "base_uri": "https://localhost:8080/"
        },
        "id": "EplNPvVW9Ahb",
        "outputId": "5aa7bbbc-85a2-4554-bd2b-bf4b62ce4da1"
      },
      "execution_count": null,
      "outputs": [
        {
          "output_type": "stream",
          "name": "stdout",
          "text": [
            "Pearsons correlation: -0.060\n"
          ]
        }
      ]
    },
    {
      "cell_type": "markdown",
      "source": [
        "Thus, we repeated the test and removed the holidays and breaks. This was to take into account the days the students are not on campus due school not being in session. The result was a  correlation value of -0.008, which indicates an extremely weak negative association and if anything, it can be interpreted as no correlation. "
      ],
      "metadata": {
        "id": "FEFuNxeHjA0i"
      }
    },
    {
      "cell_type": "markdown",
      "source": [
        "### **Pearsons Correlation Accounting for Academic Holidays and Weekends**"
      ],
      "metadata": {
        "id": "C_QGd-Vm2uub"
      }
    },
    {
      "cell_type": "code",
      "source": [
        "# Convert dataframe into series\n",
        "Entrances3 = merged_df3['Entrances']\n",
        "Temp3 = merged_df3['Average Temperature (F)']\n",
        " \n",
        "# Apply the pearsonr()\n",
        "corr, _ = pearsonr(Entrances3, Temp3)\n",
        "print('Pearsons correlation: %.3f' % corr)"
      ],
      "metadata": {
        "colab": {
          "base_uri": "https://localhost:8080/"
        },
        "id": "us_4IlLqMvqs",
        "outputId": "6e34060e-c58e-4ee2-b972-687619b6da61"
      },
      "execution_count": null,
      "outputs": [
        {
          "output_type": "stream",
          "name": "stdout",
          "text": [
            "Pearsons correlation: -0.053\n"
          ]
        }
      ]
    },
    {
      "cell_type": "markdown",
      "source": [
        "\n",
        "We repeated the test a third time to remove holidays as well as weekends to account for the lower population of students who enter on non-school days. The result was a correlation value of -0.053, which also indicates essentially no correlation. \n",
        "\n",
        "All of these correlation values are consistent with what we viewed in the scatterplots. Based on the scatterplots and the Pearson's correlation test, we can conclude that a decrease in temperature is not correlated with an increase in the amount of people who use the Cal Poly Rec Center. \n",
        "\n"
      ],
      "metadata": {
        "id": "B6GByHLvWKjA"
      }
    },
    {
      "cell_type": "markdown",
      "source": [
        "## **Conclusion**"
      ],
      "metadata": {
        "id": "qLA_6umMJosA"
      }
    },
    {
      "cell_type": "markdown",
      "source": [
        "In conclusion, our analysis fails to support our hypothesis and concludes that a decrease in temperature is not correlated with an increase in the amount of people who use the Cal Poly Rec Center. Despite the more extreme weather this year, the temperature usually is steady in San Luis Obispo, with the range of temperature in between 41°F to 78°F. Therefore, weather is most likely not a factor in the amount of people who use the Cal Poly Rec Center. \n",
        "\n",
        "To expand our analysis, we could examine other factors besides temperature, such as precipitation. We could also conduct the analysis utilizing smaller time intervals, such as hours, as opposed to days, to obtain a more granular level of evaluations. \n",
        "\n"
      ],
      "metadata": {
        "id": "NlmZWh8LjCBa"
      }
    }
  ]
}